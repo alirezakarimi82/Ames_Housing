{
 "cells": [
  {
   "cell_type": "code",
   "execution_count": 1,
   "metadata": {},
   "outputs": [],
   "source": [
    "import pandas as pd\n",
    "import numpy as np\n",
    "import matplotlib.pyplot as plt\n",
    "import seaborn as sns\n",
    "\n",
    "from sklearn.linear_model import Ridge, Lasso, ElasticNet, LinearRegression, RidgeCV, LassoCV, ElasticNetCV\n",
    "from sklearn.model_selection import cross_val_score, train_test_split\n",
    "from sklearn.preprocessing import StandardScaler, PolynomialFeatures, QuantileTransformer\n",
    "from sklearn.feature_selection import RFECV\n",
    "from sklearn.metrics import r2_score\n",
    "\n",
    "%matplotlib inline"
   ]
  },
  {
   "cell_type": "markdown",
   "metadata": {},
   "source": [
    "## Importing the data"
   ]
  },
  {
   "cell_type": "code",
   "execution_count": 2,
   "metadata": {},
   "outputs": [
    {
     "data": {
      "text/html": [
       "<div>\n",
       "<style scoped>\n",
       "    .dataframe tbody tr th:only-of-type {\n",
       "        vertical-align: middle;\n",
       "    }\n",
       "\n",
       "    .dataframe tbody tr th {\n",
       "        vertical-align: top;\n",
       "    }\n",
       "\n",
       "    .dataframe thead th {\n",
       "        text-align: right;\n",
       "    }\n",
       "</style>\n",
       "<table border=\"1\" class=\"dataframe\">\n",
       "  <thead>\n",
       "    <tr style=\"text-align: right;\">\n",
       "      <th></th>\n",
       "      <th>Id</th>\n",
       "      <th>PID</th>\n",
       "      <th>MS SubClass</th>\n",
       "      <th>MS Zoning</th>\n",
       "      <th>Lot Frontage</th>\n",
       "      <th>Lot Area</th>\n",
       "      <th>Street</th>\n",
       "      <th>Alley</th>\n",
       "      <th>Lot Shape</th>\n",
       "      <th>Land Contour</th>\n",
       "      <th>...</th>\n",
       "      <th>Screen Porch</th>\n",
       "      <th>Pool Area</th>\n",
       "      <th>Pool QC</th>\n",
       "      <th>Fence</th>\n",
       "      <th>Misc Feature</th>\n",
       "      <th>Misc Val</th>\n",
       "      <th>Mo Sold</th>\n",
       "      <th>Yr Sold</th>\n",
       "      <th>Sale Type</th>\n",
       "      <th>SalePrice</th>\n",
       "    </tr>\n",
       "  </thead>\n",
       "  <tbody>\n",
       "    <tr>\n",
       "      <th>0</th>\n",
       "      <td>109</td>\n",
       "      <td>533352170</td>\n",
       "      <td>60</td>\n",
       "      <td>RL</td>\n",
       "      <td>NaN</td>\n",
       "      <td>13517</td>\n",
       "      <td>Pave</td>\n",
       "      <td>NaN</td>\n",
       "      <td>IR1</td>\n",
       "      <td>Lvl</td>\n",
       "      <td>...</td>\n",
       "      <td>0</td>\n",
       "      <td>0</td>\n",
       "      <td>NaN</td>\n",
       "      <td>NaN</td>\n",
       "      <td>NaN</td>\n",
       "      <td>0</td>\n",
       "      <td>3</td>\n",
       "      <td>2010</td>\n",
       "      <td>WD</td>\n",
       "      <td>130500</td>\n",
       "    </tr>\n",
       "    <tr>\n",
       "      <th>1</th>\n",
       "      <td>544</td>\n",
       "      <td>531379050</td>\n",
       "      <td>60</td>\n",
       "      <td>RL</td>\n",
       "      <td>43.0</td>\n",
       "      <td>11492</td>\n",
       "      <td>Pave</td>\n",
       "      <td>NaN</td>\n",
       "      <td>IR1</td>\n",
       "      <td>Lvl</td>\n",
       "      <td>...</td>\n",
       "      <td>0</td>\n",
       "      <td>0</td>\n",
       "      <td>NaN</td>\n",
       "      <td>NaN</td>\n",
       "      <td>NaN</td>\n",
       "      <td>0</td>\n",
       "      <td>4</td>\n",
       "      <td>2009</td>\n",
       "      <td>WD</td>\n",
       "      <td>220000</td>\n",
       "    </tr>\n",
       "    <tr>\n",
       "      <th>2</th>\n",
       "      <td>153</td>\n",
       "      <td>535304180</td>\n",
       "      <td>20</td>\n",
       "      <td>RL</td>\n",
       "      <td>68.0</td>\n",
       "      <td>7922</td>\n",
       "      <td>Pave</td>\n",
       "      <td>NaN</td>\n",
       "      <td>Reg</td>\n",
       "      <td>Lvl</td>\n",
       "      <td>...</td>\n",
       "      <td>0</td>\n",
       "      <td>0</td>\n",
       "      <td>NaN</td>\n",
       "      <td>NaN</td>\n",
       "      <td>NaN</td>\n",
       "      <td>0</td>\n",
       "      <td>1</td>\n",
       "      <td>2010</td>\n",
       "      <td>WD</td>\n",
       "      <td>109000</td>\n",
       "    </tr>\n",
       "    <tr>\n",
       "      <th>3</th>\n",
       "      <td>318</td>\n",
       "      <td>916386060</td>\n",
       "      <td>60</td>\n",
       "      <td>RL</td>\n",
       "      <td>73.0</td>\n",
       "      <td>9802</td>\n",
       "      <td>Pave</td>\n",
       "      <td>NaN</td>\n",
       "      <td>Reg</td>\n",
       "      <td>Lvl</td>\n",
       "      <td>...</td>\n",
       "      <td>0</td>\n",
       "      <td>0</td>\n",
       "      <td>NaN</td>\n",
       "      <td>NaN</td>\n",
       "      <td>NaN</td>\n",
       "      <td>0</td>\n",
       "      <td>4</td>\n",
       "      <td>2010</td>\n",
       "      <td>WD</td>\n",
       "      <td>174000</td>\n",
       "    </tr>\n",
       "    <tr>\n",
       "      <th>4</th>\n",
       "      <td>255</td>\n",
       "      <td>906425045</td>\n",
       "      <td>50</td>\n",
       "      <td>RL</td>\n",
       "      <td>82.0</td>\n",
       "      <td>14235</td>\n",
       "      <td>Pave</td>\n",
       "      <td>NaN</td>\n",
       "      <td>IR1</td>\n",
       "      <td>Lvl</td>\n",
       "      <td>...</td>\n",
       "      <td>0</td>\n",
       "      <td>0</td>\n",
       "      <td>NaN</td>\n",
       "      <td>NaN</td>\n",
       "      <td>NaN</td>\n",
       "      <td>0</td>\n",
       "      <td>3</td>\n",
       "      <td>2010</td>\n",
       "      <td>WD</td>\n",
       "      <td>138500</td>\n",
       "    </tr>\n",
       "  </tbody>\n",
       "</table>\n",
       "<p>5 rows × 81 columns</p>\n",
       "</div>"
      ],
      "text/plain": [
       "    Id        PID  MS SubClass MS Zoning  Lot Frontage  Lot Area Street Alley  \\\n",
       "0  109  533352170           60        RL           NaN     13517   Pave   NaN   \n",
       "1  544  531379050           60        RL          43.0     11492   Pave   NaN   \n",
       "2  153  535304180           20        RL          68.0      7922   Pave   NaN   \n",
       "3  318  916386060           60        RL          73.0      9802   Pave   NaN   \n",
       "4  255  906425045           50        RL          82.0     14235   Pave   NaN   \n",
       "\n",
       "  Lot Shape Land Contour    ...     Screen Porch Pool Area Pool QC Fence  \\\n",
       "0       IR1          Lvl    ...                0         0     NaN   NaN   \n",
       "1       IR1          Lvl    ...                0         0     NaN   NaN   \n",
       "2       Reg          Lvl    ...                0         0     NaN   NaN   \n",
       "3       Reg          Lvl    ...                0         0     NaN   NaN   \n",
       "4       IR1          Lvl    ...                0         0     NaN   NaN   \n",
       "\n",
       "  Misc Feature Misc Val Mo Sold Yr Sold  Sale Type  SalePrice  \n",
       "0          NaN        0       3    2010        WD      130500  \n",
       "1          NaN        0       4    2009        WD      220000  \n",
       "2          NaN        0       1    2010        WD      109000  \n",
       "3          NaN        0       4    2010        WD      174000  \n",
       "4          NaN        0       3    2010        WD      138500  \n",
       "\n",
       "[5 rows x 81 columns]"
      ]
     },
     "execution_count": 2,
     "metadata": {},
     "output_type": "execute_result"
    }
   ],
   "source": [
    "train = pd.read_csv('./datasets/train.csv')\n",
    "train.head()"
   ]
  },
  {
   "cell_type": "code",
   "execution_count": 3,
   "metadata": {},
   "outputs": [
    {
     "data": {
      "text/html": [
       "<div>\n",
       "<style scoped>\n",
       "    .dataframe tbody tr th:only-of-type {\n",
       "        vertical-align: middle;\n",
       "    }\n",
       "\n",
       "    .dataframe tbody tr th {\n",
       "        vertical-align: top;\n",
       "    }\n",
       "\n",
       "    .dataframe thead th {\n",
       "        text-align: right;\n",
       "    }\n",
       "</style>\n",
       "<table border=\"1\" class=\"dataframe\">\n",
       "  <thead>\n",
       "    <tr style=\"text-align: right;\">\n",
       "      <th></th>\n",
       "      <th>Id</th>\n",
       "      <th>PID</th>\n",
       "      <th>MS SubClass</th>\n",
       "      <th>MS Zoning</th>\n",
       "      <th>Lot Frontage</th>\n",
       "      <th>Lot Area</th>\n",
       "      <th>Street</th>\n",
       "      <th>Alley</th>\n",
       "      <th>Lot Shape</th>\n",
       "      <th>Land Contour</th>\n",
       "      <th>...</th>\n",
       "      <th>3Ssn Porch</th>\n",
       "      <th>Screen Porch</th>\n",
       "      <th>Pool Area</th>\n",
       "      <th>Pool QC</th>\n",
       "      <th>Fence</th>\n",
       "      <th>Misc Feature</th>\n",
       "      <th>Misc Val</th>\n",
       "      <th>Mo Sold</th>\n",
       "      <th>Yr Sold</th>\n",
       "      <th>Sale Type</th>\n",
       "    </tr>\n",
       "  </thead>\n",
       "  <tbody>\n",
       "    <tr>\n",
       "      <th>0</th>\n",
       "      <td>2658</td>\n",
       "      <td>902301120</td>\n",
       "      <td>190</td>\n",
       "      <td>RM</td>\n",
       "      <td>69.0</td>\n",
       "      <td>9142</td>\n",
       "      <td>Pave</td>\n",
       "      <td>Grvl</td>\n",
       "      <td>Reg</td>\n",
       "      <td>Lvl</td>\n",
       "      <td>...</td>\n",
       "      <td>0</td>\n",
       "      <td>0</td>\n",
       "      <td>0</td>\n",
       "      <td>NaN</td>\n",
       "      <td>NaN</td>\n",
       "      <td>NaN</td>\n",
       "      <td>0</td>\n",
       "      <td>4</td>\n",
       "      <td>2006</td>\n",
       "      <td>WD</td>\n",
       "    </tr>\n",
       "    <tr>\n",
       "      <th>1</th>\n",
       "      <td>2718</td>\n",
       "      <td>905108090</td>\n",
       "      <td>90</td>\n",
       "      <td>RL</td>\n",
       "      <td>NaN</td>\n",
       "      <td>9662</td>\n",
       "      <td>Pave</td>\n",
       "      <td>NaN</td>\n",
       "      <td>IR1</td>\n",
       "      <td>Lvl</td>\n",
       "      <td>...</td>\n",
       "      <td>0</td>\n",
       "      <td>0</td>\n",
       "      <td>0</td>\n",
       "      <td>NaN</td>\n",
       "      <td>NaN</td>\n",
       "      <td>NaN</td>\n",
       "      <td>0</td>\n",
       "      <td>8</td>\n",
       "      <td>2006</td>\n",
       "      <td>WD</td>\n",
       "    </tr>\n",
       "    <tr>\n",
       "      <th>2</th>\n",
       "      <td>2414</td>\n",
       "      <td>528218130</td>\n",
       "      <td>60</td>\n",
       "      <td>RL</td>\n",
       "      <td>58.0</td>\n",
       "      <td>17104</td>\n",
       "      <td>Pave</td>\n",
       "      <td>NaN</td>\n",
       "      <td>IR1</td>\n",
       "      <td>Lvl</td>\n",
       "      <td>...</td>\n",
       "      <td>0</td>\n",
       "      <td>0</td>\n",
       "      <td>0</td>\n",
       "      <td>NaN</td>\n",
       "      <td>NaN</td>\n",
       "      <td>NaN</td>\n",
       "      <td>0</td>\n",
       "      <td>9</td>\n",
       "      <td>2006</td>\n",
       "      <td>New</td>\n",
       "    </tr>\n",
       "    <tr>\n",
       "      <th>3</th>\n",
       "      <td>1989</td>\n",
       "      <td>902207150</td>\n",
       "      <td>30</td>\n",
       "      <td>RM</td>\n",
       "      <td>60.0</td>\n",
       "      <td>8520</td>\n",
       "      <td>Pave</td>\n",
       "      <td>NaN</td>\n",
       "      <td>Reg</td>\n",
       "      <td>Lvl</td>\n",
       "      <td>...</td>\n",
       "      <td>0</td>\n",
       "      <td>0</td>\n",
       "      <td>0</td>\n",
       "      <td>NaN</td>\n",
       "      <td>NaN</td>\n",
       "      <td>NaN</td>\n",
       "      <td>0</td>\n",
       "      <td>7</td>\n",
       "      <td>2007</td>\n",
       "      <td>WD</td>\n",
       "    </tr>\n",
       "    <tr>\n",
       "      <th>4</th>\n",
       "      <td>625</td>\n",
       "      <td>535105100</td>\n",
       "      <td>20</td>\n",
       "      <td>RL</td>\n",
       "      <td>NaN</td>\n",
       "      <td>9500</td>\n",
       "      <td>Pave</td>\n",
       "      <td>NaN</td>\n",
       "      <td>IR1</td>\n",
       "      <td>Lvl</td>\n",
       "      <td>...</td>\n",
       "      <td>0</td>\n",
       "      <td>185</td>\n",
       "      <td>0</td>\n",
       "      <td>NaN</td>\n",
       "      <td>NaN</td>\n",
       "      <td>NaN</td>\n",
       "      <td>0</td>\n",
       "      <td>7</td>\n",
       "      <td>2009</td>\n",
       "      <td>WD</td>\n",
       "    </tr>\n",
       "  </tbody>\n",
       "</table>\n",
       "<p>5 rows × 80 columns</p>\n",
       "</div>"
      ],
      "text/plain": [
       "     Id        PID  MS SubClass MS Zoning  Lot Frontage  Lot Area Street  \\\n",
       "0  2658  902301120          190        RM          69.0      9142   Pave   \n",
       "1  2718  905108090           90        RL           NaN      9662   Pave   \n",
       "2  2414  528218130           60        RL          58.0     17104   Pave   \n",
       "3  1989  902207150           30        RM          60.0      8520   Pave   \n",
       "4   625  535105100           20        RL           NaN      9500   Pave   \n",
       "\n",
       "  Alley Lot Shape Land Contour    ...     3Ssn Porch Screen Porch Pool Area  \\\n",
       "0  Grvl       Reg          Lvl    ...              0            0         0   \n",
       "1   NaN       IR1          Lvl    ...              0            0         0   \n",
       "2   NaN       IR1          Lvl    ...              0            0         0   \n",
       "3   NaN       Reg          Lvl    ...              0            0         0   \n",
       "4   NaN       IR1          Lvl    ...              0          185         0   \n",
       "\n",
       "  Pool QC Fence Misc Feature Misc Val Mo Sold  Yr Sold  Sale Type  \n",
       "0     NaN   NaN          NaN        0       4     2006        WD   \n",
       "1     NaN   NaN          NaN        0       8     2006        WD   \n",
       "2     NaN   NaN          NaN        0       9     2006        New  \n",
       "3     NaN   NaN          NaN        0       7     2007        WD   \n",
       "4     NaN   NaN          NaN        0       7     2009        WD   \n",
       "\n",
       "[5 rows x 80 columns]"
      ]
     },
     "execution_count": 3,
     "metadata": {},
     "output_type": "execute_result"
    }
   ],
   "source": [
    "test = pd.read_csv('./datasets/test.csv')\n",
    "test.head()"
   ]
  },
  {
   "cell_type": "code",
   "execution_count": 4,
   "metadata": {},
   "outputs": [
    {
     "data": {
      "text/plain": [
       "(2051, 81)"
      ]
     },
     "execution_count": 4,
     "metadata": {},
     "output_type": "execute_result"
    }
   ],
   "source": [
    "train.shape"
   ]
  },
  {
   "cell_type": "code",
   "execution_count": 5,
   "metadata": {},
   "outputs": [
    {
     "data": {
      "text/plain": [
       "(879, 80)"
      ]
     },
     "execution_count": 5,
     "metadata": {},
     "output_type": "execute_result"
    }
   ],
   "source": [
    "test.shape"
   ]
  },
  {
   "cell_type": "code",
   "execution_count": 6,
   "metadata": {},
   "outputs": [
    {
     "data": {
      "text/plain": [
       "{'SalePrice'}"
      ]
     },
     "execution_count": 6,
     "metadata": {},
     "output_type": "execute_result"
    }
   ],
   "source": [
    "set(train.columns) - set(test.columns)"
   ]
  },
  {
   "cell_type": "code",
   "execution_count": 7,
   "metadata": {},
   "outputs": [],
   "source": [
    "ntrain = train.shape[0]\n",
    "ntest = test.shape[0]"
   ]
  },
  {
   "cell_type": "code",
   "execution_count": 8,
   "metadata": {},
   "outputs": [],
   "source": [
    "test['SalePrice'] = 0"
   ]
  },
  {
   "cell_type": "code",
   "execution_count": 9,
   "metadata": {},
   "outputs": [
    {
     "data": {
      "text/plain": [
       "(879, 81)"
      ]
     },
     "execution_count": 9,
     "metadata": {},
     "output_type": "execute_result"
    }
   ],
   "source": [
    "test.shape"
   ]
  },
  {
   "cell_type": "markdown",
   "metadata": {},
   "source": [
    "## Concatenating the Train and Test data sets"
   ]
  },
  {
   "cell_type": "code",
   "execution_count": 10,
   "metadata": {},
   "outputs": [
    {
     "data": {
      "text/html": [
       "<div>\n",
       "<style scoped>\n",
       "    .dataframe tbody tr th:only-of-type {\n",
       "        vertical-align: middle;\n",
       "    }\n",
       "\n",
       "    .dataframe tbody tr th {\n",
       "        vertical-align: top;\n",
       "    }\n",
       "\n",
       "    .dataframe thead th {\n",
       "        text-align: right;\n",
       "    }\n",
       "</style>\n",
       "<table border=\"1\" class=\"dataframe\">\n",
       "  <thead>\n",
       "    <tr style=\"text-align: right;\">\n",
       "      <th></th>\n",
       "      <th>Id</th>\n",
       "      <th>PID</th>\n",
       "      <th>MS SubClass</th>\n",
       "      <th>MS Zoning</th>\n",
       "      <th>Lot Frontage</th>\n",
       "      <th>Lot Area</th>\n",
       "      <th>Street</th>\n",
       "      <th>Alley</th>\n",
       "      <th>Lot Shape</th>\n",
       "      <th>Land Contour</th>\n",
       "      <th>...</th>\n",
       "      <th>Screen Porch</th>\n",
       "      <th>Pool Area</th>\n",
       "      <th>Pool QC</th>\n",
       "      <th>Fence</th>\n",
       "      <th>Misc Feature</th>\n",
       "      <th>Misc Val</th>\n",
       "      <th>Mo Sold</th>\n",
       "      <th>Yr Sold</th>\n",
       "      <th>Sale Type</th>\n",
       "      <th>SalePrice</th>\n",
       "    </tr>\n",
       "  </thead>\n",
       "  <tbody>\n",
       "    <tr>\n",
       "      <th>0</th>\n",
       "      <td>109</td>\n",
       "      <td>533352170</td>\n",
       "      <td>60</td>\n",
       "      <td>RL</td>\n",
       "      <td>NaN</td>\n",
       "      <td>13517</td>\n",
       "      <td>Pave</td>\n",
       "      <td>NaN</td>\n",
       "      <td>IR1</td>\n",
       "      <td>Lvl</td>\n",
       "      <td>...</td>\n",
       "      <td>0</td>\n",
       "      <td>0</td>\n",
       "      <td>NaN</td>\n",
       "      <td>NaN</td>\n",
       "      <td>NaN</td>\n",
       "      <td>0</td>\n",
       "      <td>3</td>\n",
       "      <td>2010</td>\n",
       "      <td>WD</td>\n",
       "      <td>130500</td>\n",
       "    </tr>\n",
       "    <tr>\n",
       "      <th>1</th>\n",
       "      <td>544</td>\n",
       "      <td>531379050</td>\n",
       "      <td>60</td>\n",
       "      <td>RL</td>\n",
       "      <td>43.0</td>\n",
       "      <td>11492</td>\n",
       "      <td>Pave</td>\n",
       "      <td>NaN</td>\n",
       "      <td>IR1</td>\n",
       "      <td>Lvl</td>\n",
       "      <td>...</td>\n",
       "      <td>0</td>\n",
       "      <td>0</td>\n",
       "      <td>NaN</td>\n",
       "      <td>NaN</td>\n",
       "      <td>NaN</td>\n",
       "      <td>0</td>\n",
       "      <td>4</td>\n",
       "      <td>2009</td>\n",
       "      <td>WD</td>\n",
       "      <td>220000</td>\n",
       "    </tr>\n",
       "    <tr>\n",
       "      <th>2</th>\n",
       "      <td>153</td>\n",
       "      <td>535304180</td>\n",
       "      <td>20</td>\n",
       "      <td>RL</td>\n",
       "      <td>68.0</td>\n",
       "      <td>7922</td>\n",
       "      <td>Pave</td>\n",
       "      <td>NaN</td>\n",
       "      <td>Reg</td>\n",
       "      <td>Lvl</td>\n",
       "      <td>...</td>\n",
       "      <td>0</td>\n",
       "      <td>0</td>\n",
       "      <td>NaN</td>\n",
       "      <td>NaN</td>\n",
       "      <td>NaN</td>\n",
       "      <td>0</td>\n",
       "      <td>1</td>\n",
       "      <td>2010</td>\n",
       "      <td>WD</td>\n",
       "      <td>109000</td>\n",
       "    </tr>\n",
       "    <tr>\n",
       "      <th>3</th>\n",
       "      <td>318</td>\n",
       "      <td>916386060</td>\n",
       "      <td>60</td>\n",
       "      <td>RL</td>\n",
       "      <td>73.0</td>\n",
       "      <td>9802</td>\n",
       "      <td>Pave</td>\n",
       "      <td>NaN</td>\n",
       "      <td>Reg</td>\n",
       "      <td>Lvl</td>\n",
       "      <td>...</td>\n",
       "      <td>0</td>\n",
       "      <td>0</td>\n",
       "      <td>NaN</td>\n",
       "      <td>NaN</td>\n",
       "      <td>NaN</td>\n",
       "      <td>0</td>\n",
       "      <td>4</td>\n",
       "      <td>2010</td>\n",
       "      <td>WD</td>\n",
       "      <td>174000</td>\n",
       "    </tr>\n",
       "    <tr>\n",
       "      <th>4</th>\n",
       "      <td>255</td>\n",
       "      <td>906425045</td>\n",
       "      <td>50</td>\n",
       "      <td>RL</td>\n",
       "      <td>82.0</td>\n",
       "      <td>14235</td>\n",
       "      <td>Pave</td>\n",
       "      <td>NaN</td>\n",
       "      <td>IR1</td>\n",
       "      <td>Lvl</td>\n",
       "      <td>...</td>\n",
       "      <td>0</td>\n",
       "      <td>0</td>\n",
       "      <td>NaN</td>\n",
       "      <td>NaN</td>\n",
       "      <td>NaN</td>\n",
       "      <td>0</td>\n",
       "      <td>3</td>\n",
       "      <td>2010</td>\n",
       "      <td>WD</td>\n",
       "      <td>138500</td>\n",
       "    </tr>\n",
       "  </tbody>\n",
       "</table>\n",
       "<p>5 rows × 81 columns</p>\n",
       "</div>"
      ],
      "text/plain": [
       "    Id        PID  MS SubClass MS Zoning  Lot Frontage  Lot Area Street Alley  \\\n",
       "0  109  533352170           60        RL           NaN     13517   Pave   NaN   \n",
       "1  544  531379050           60        RL          43.0     11492   Pave   NaN   \n",
       "2  153  535304180           20        RL          68.0      7922   Pave   NaN   \n",
       "3  318  916386060           60        RL          73.0      9802   Pave   NaN   \n",
       "4  255  906425045           50        RL          82.0     14235   Pave   NaN   \n",
       "\n",
       "  Lot Shape Land Contour    ...     Screen Porch Pool Area Pool QC Fence  \\\n",
       "0       IR1          Lvl    ...                0         0     NaN   NaN   \n",
       "1       IR1          Lvl    ...                0         0     NaN   NaN   \n",
       "2       Reg          Lvl    ...                0         0     NaN   NaN   \n",
       "3       Reg          Lvl    ...                0         0     NaN   NaN   \n",
       "4       IR1          Lvl    ...                0         0     NaN   NaN   \n",
       "\n",
       "  Misc Feature Misc Val Mo Sold Yr Sold  Sale Type  SalePrice  \n",
       "0          NaN        0       3    2010        WD      130500  \n",
       "1          NaN        0       4    2009        WD      220000  \n",
       "2          NaN        0       1    2010        WD      109000  \n",
       "3          NaN        0       4    2010        WD      174000  \n",
       "4          NaN        0       3    2010        WD      138500  \n",
       "\n",
       "[5 rows x 81 columns]"
      ]
     },
     "execution_count": 10,
     "metadata": {},
     "output_type": "execute_result"
    }
   ],
   "source": [
    "df = pd.concat([train, test], ignore_index=True)\n",
    "df.head()"
   ]
  },
  {
   "cell_type": "code",
   "execution_count": 11,
   "metadata": {},
   "outputs": [
    {
     "data": {
      "text/plain": [
       "(2930, 81)"
      ]
     },
     "execution_count": 11,
     "metadata": {},
     "output_type": "execute_result"
    }
   ],
   "source": [
    "df.shape"
   ]
  },
  {
   "cell_type": "code",
   "execution_count": 12,
   "metadata": {},
   "outputs": [
    {
     "data": {
      "text/html": [
       "<div>\n",
       "<style scoped>\n",
       "    .dataframe tbody tr th:only-of-type {\n",
       "        vertical-align: middle;\n",
       "    }\n",
       "\n",
       "    .dataframe tbody tr th {\n",
       "        vertical-align: top;\n",
       "    }\n",
       "\n",
       "    .dataframe thead th {\n",
       "        text-align: right;\n",
       "    }\n",
       "</style>\n",
       "<table border=\"1\" class=\"dataframe\">\n",
       "  <thead>\n",
       "    <tr style=\"text-align: right;\">\n",
       "      <th></th>\n",
       "      <th>Id</th>\n",
       "      <th>PID</th>\n",
       "      <th>MS SubClass</th>\n",
       "      <th>MS Zoning</th>\n",
       "      <th>Lot Frontage</th>\n",
       "      <th>Lot Area</th>\n",
       "      <th>Street</th>\n",
       "      <th>Alley</th>\n",
       "      <th>Lot Shape</th>\n",
       "      <th>Land Contour</th>\n",
       "      <th>...</th>\n",
       "      <th>Screen Porch</th>\n",
       "      <th>Pool Area</th>\n",
       "      <th>Pool QC</th>\n",
       "      <th>Fence</th>\n",
       "      <th>Misc Feature</th>\n",
       "      <th>Misc Val</th>\n",
       "      <th>Mo Sold</th>\n",
       "      <th>Yr Sold</th>\n",
       "      <th>Sale Type</th>\n",
       "      <th>SalePrice</th>\n",
       "    </tr>\n",
       "  </thead>\n",
       "  <tbody>\n",
       "    <tr>\n",
       "      <th>2925</th>\n",
       "      <td>1662</td>\n",
       "      <td>527377110</td>\n",
       "      <td>60</td>\n",
       "      <td>RL</td>\n",
       "      <td>80.0</td>\n",
       "      <td>8000</td>\n",
       "      <td>Pave</td>\n",
       "      <td>NaN</td>\n",
       "      <td>Reg</td>\n",
       "      <td>Lvl</td>\n",
       "      <td>...</td>\n",
       "      <td>0</td>\n",
       "      <td>0</td>\n",
       "      <td>NaN</td>\n",
       "      <td>NaN</td>\n",
       "      <td>NaN</td>\n",
       "      <td>0</td>\n",
       "      <td>11</td>\n",
       "      <td>2007</td>\n",
       "      <td>WD</td>\n",
       "      <td>0</td>\n",
       "    </tr>\n",
       "    <tr>\n",
       "      <th>2926</th>\n",
       "      <td>1234</td>\n",
       "      <td>535126140</td>\n",
       "      <td>60</td>\n",
       "      <td>RL</td>\n",
       "      <td>90.0</td>\n",
       "      <td>14670</td>\n",
       "      <td>Pave</td>\n",
       "      <td>NaN</td>\n",
       "      <td>Reg</td>\n",
       "      <td>Lvl</td>\n",
       "      <td>...</td>\n",
       "      <td>0</td>\n",
       "      <td>0</td>\n",
       "      <td>NaN</td>\n",
       "      <td>MnPrv</td>\n",
       "      <td>NaN</td>\n",
       "      <td>0</td>\n",
       "      <td>8</td>\n",
       "      <td>2008</td>\n",
       "      <td>WD</td>\n",
       "      <td>0</td>\n",
       "    </tr>\n",
       "    <tr>\n",
       "      <th>2927</th>\n",
       "      <td>1373</td>\n",
       "      <td>904100040</td>\n",
       "      <td>20</td>\n",
       "      <td>RL</td>\n",
       "      <td>55.0</td>\n",
       "      <td>8250</td>\n",
       "      <td>Pave</td>\n",
       "      <td>NaN</td>\n",
       "      <td>Reg</td>\n",
       "      <td>Lvl</td>\n",
       "      <td>...</td>\n",
       "      <td>0</td>\n",
       "      <td>0</td>\n",
       "      <td>NaN</td>\n",
       "      <td>NaN</td>\n",
       "      <td>NaN</td>\n",
       "      <td>0</td>\n",
       "      <td>8</td>\n",
       "      <td>2008</td>\n",
       "      <td>WD</td>\n",
       "      <td>0</td>\n",
       "    </tr>\n",
       "    <tr>\n",
       "      <th>2928</th>\n",
       "      <td>1672</td>\n",
       "      <td>527425140</td>\n",
       "      <td>20</td>\n",
       "      <td>RL</td>\n",
       "      <td>60.0</td>\n",
       "      <td>9000</td>\n",
       "      <td>Pave</td>\n",
       "      <td>NaN</td>\n",
       "      <td>Reg</td>\n",
       "      <td>Lvl</td>\n",
       "      <td>...</td>\n",
       "      <td>0</td>\n",
       "      <td>0</td>\n",
       "      <td>NaN</td>\n",
       "      <td>GdWo</td>\n",
       "      <td>NaN</td>\n",
       "      <td>0</td>\n",
       "      <td>5</td>\n",
       "      <td>2007</td>\n",
       "      <td>WD</td>\n",
       "      <td>0</td>\n",
       "    </tr>\n",
       "    <tr>\n",
       "      <th>2929</th>\n",
       "      <td>1939</td>\n",
       "      <td>535327160</td>\n",
       "      <td>20</td>\n",
       "      <td>RL</td>\n",
       "      <td>70.0</td>\n",
       "      <td>8400</td>\n",
       "      <td>Pave</td>\n",
       "      <td>NaN</td>\n",
       "      <td>Reg</td>\n",
       "      <td>Lvl</td>\n",
       "      <td>...</td>\n",
       "      <td>0</td>\n",
       "      <td>0</td>\n",
       "      <td>NaN</td>\n",
       "      <td>GdWo</td>\n",
       "      <td>NaN</td>\n",
       "      <td>0</td>\n",
       "      <td>3</td>\n",
       "      <td>2007</td>\n",
       "      <td>WD</td>\n",
       "      <td>0</td>\n",
       "    </tr>\n",
       "  </tbody>\n",
       "</table>\n",
       "<p>5 rows × 81 columns</p>\n",
       "</div>"
      ],
      "text/plain": [
       "        Id        PID  MS SubClass MS Zoning  Lot Frontage  Lot Area Street  \\\n",
       "2925  1662  527377110           60        RL          80.0      8000   Pave   \n",
       "2926  1234  535126140           60        RL          90.0     14670   Pave   \n",
       "2927  1373  904100040           20        RL          55.0      8250   Pave   \n",
       "2928  1672  527425140           20        RL          60.0      9000   Pave   \n",
       "2929  1939  535327160           20        RL          70.0      8400   Pave   \n",
       "\n",
       "     Alley Lot Shape Land Contour    ...     Screen Porch Pool Area Pool QC  \\\n",
       "2925   NaN       Reg          Lvl    ...                0         0     NaN   \n",
       "2926   NaN       Reg          Lvl    ...                0         0     NaN   \n",
       "2927   NaN       Reg          Lvl    ...                0         0     NaN   \n",
       "2928   NaN       Reg          Lvl    ...                0         0     NaN   \n",
       "2929   NaN       Reg          Lvl    ...                0         0     NaN   \n",
       "\n",
       "      Fence Misc Feature Misc Val Mo Sold Yr Sold  Sale Type  SalePrice  \n",
       "2925    NaN          NaN        0      11    2007        WD           0  \n",
       "2926  MnPrv          NaN        0       8    2008        WD           0  \n",
       "2927    NaN          NaN        0       8    2008        WD           0  \n",
       "2928   GdWo          NaN        0       5    2007        WD           0  \n",
       "2929   GdWo          NaN        0       3    2007        WD           0  \n",
       "\n",
       "[5 rows x 81 columns]"
      ]
     },
     "execution_count": 12,
     "metadata": {},
     "output_type": "execute_result"
    }
   ],
   "source": [
    "df.tail()"
   ]
  },
  {
   "cell_type": "code",
   "execution_count": 13,
   "metadata": {},
   "outputs": [
    {
     "data": {
      "text/plain": [
       "Index(['Id', 'PID', 'MSSubClass', 'MSZoning', 'LotFrontage', 'LotArea',\n",
       "       'Street', 'Alley', 'LotShape', 'LandContour', 'Utilities', 'LotConfig',\n",
       "       'LandSlope', 'Neighborhood', 'Condition1', 'Condition2', 'BldgType',\n",
       "       'HouseStyle', 'OverallQual', 'OverallCond', 'YearBuilt',\n",
       "       'YearRemod/Add', 'RoofStyle', 'RoofMatl', 'Exterior1st', 'Exterior2nd',\n",
       "       'MasVnrType', 'MasVnrArea', 'ExterQual', 'ExterCond', 'Foundation',\n",
       "       'BsmtQual', 'BsmtCond', 'BsmtExposure', 'BsmtFinType1', 'BsmtFinSF1',\n",
       "       'BsmtFinType2', 'BsmtFinSF2', 'BsmtUnfSF', 'TotalBsmtSF', 'Heating',\n",
       "       'HeatingQC', 'CentralAir', 'Electrical', '1stFlrSF', '2ndFlrSF',\n",
       "       'LowQualFinSF', 'GrLivArea', 'BsmtFullBath', 'BsmtHalfBath', 'FullBath',\n",
       "       'HalfBath', 'BedroomAbvGr', 'KitchenAbvGr', 'KitchenQual',\n",
       "       'TotRmsAbvGrd', 'Functional', 'Fireplaces', 'FireplaceQu', 'GarageType',\n",
       "       'GarageYrBlt', 'GarageFinish', 'GarageCars', 'GarageArea', 'GarageQual',\n",
       "       'GarageCond', 'PavedDrive', 'WoodDeckSF', 'OpenPorchSF',\n",
       "       'EnclosedPorch', '3SsnPorch', 'ScreenPorch', 'PoolArea', 'PoolQC',\n",
       "       'Fence', 'MiscFeature', 'MiscVal', 'MoSold', 'YrSold', 'SaleType',\n",
       "       'SalePrice'],\n",
       "      dtype='object')"
      ]
     },
     "execution_count": 13,
     "metadata": {},
     "output_type": "execute_result"
    }
   ],
   "source": [
    "df.columns = df.columns.str.replace(' ', '')\n",
    "df.columns"
   ]
  },
  {
   "cell_type": "markdown",
   "metadata": {},
   "source": [
    "## Data Cleaning"
   ]
  },
  {
   "cell_type": "code",
   "execution_count": 14,
   "metadata": {},
   "outputs": [
    {
     "data": {
      "text/plain": [
       "PoolQC          2917\n",
       "MiscFeature     2824\n",
       "Alley           2732\n",
       "Fence           2358\n",
       "FireplaceQu     1422\n",
       "LotFrontage      490\n",
       "GarageYrBlt      159\n",
       "GarageCond       159\n",
       "GarageQual       159\n",
       "GarageFinish     159\n",
       "GarageType       157\n",
       "BsmtExposure      83\n",
       "BsmtFinType2      81\n",
       "BsmtCond          80\n",
       "BsmtQual          80\n",
       "BsmtFinType1      80\n",
       "MasVnrType        23\n",
       "MasVnrArea        23\n",
       "BsmtHalfBath       2\n",
       "BsmtFullBath       2\n",
       "GarageCars         1\n",
       "BsmtFinSF2         1\n",
       "BsmtFinSF1         1\n",
       "BsmtUnfSF          1\n",
       "TotalBsmtSF        1\n",
       "GarageArea         1\n",
       "Electrical         1\n",
       "dtype: int64"
      ]
     },
     "execution_count": 14,
     "metadata": {},
     "output_type": "execute_result"
    }
   ],
   "source": [
    "null_columns = df.columns[df.isnull().any()]\n",
    "df[null_columns].isnull().sum().sort_values(ascending=False)"
   ]
  },
  {
   "cell_type": "code",
   "execution_count": 15,
   "metadata": {},
   "outputs": [],
   "source": [
    "# Handle missing values for some of the features\n",
    "\n",
    "# Alley : data description says NA means 'no alley access'\n",
    "df['Alley'].fillna('NA', inplace=True)\n",
    "\n",
    "# BsmtQual etc : data description says NA for basement features is 'no basement'\n",
    "df['BsmtQual'].fillna('NA', inplace=True)  \n",
    "df['BsmtCond'].fillna('NA', inplace=True)\n",
    "df['BsmtExposure'].fillna('NA', inplace=True)\n",
    "df['BsmtFinType1'].fillna('NA', inplace=True)\n",
    "df['BsmtFinType2'].fillna('NA', inplace=True)\n",
    "df['BsmtFullBath'].fillna(0, inplace=True)\n",
    "df['BsmtHalfBath'].fillna(0, inplace=True)\n",
    "df['BsmtUnfSF'].fillna(0, inplace=True)\n",
    "df['TotalBsmtSF'].fillna(0, inplace=True)\n",
    "df['BsmtFinSF1'].fillna(0, inplace=True)\n",
    "df['BsmtFinSF2'].fillna(0, inplace=True)\n",
    "\n",
    "# Fence : data description says NA means 'no fence'\n",
    "df['Fence'].fillna('NA', inplace=True)\n",
    "\n",
    "# FireplaceQu : data description says NA means 'no fireplace'\n",
    "df['FireplaceQu'].fillna('NA', inplace=True)\n",
    "\n",
    "# GarageType etc : data description says NA for garage features is 'no garage'\n",
    "df['GarageType'].fillna('NA', inplace=True)\n",
    "df['GarageFinish'].fillna('NA', inplace=True)\n",
    "df['GarageQual'].fillna('NA', inplace=True)\n",
    "df['GarageCond'].fillna('NA', inplace=True)\n",
    "df['GarageArea'].fillna(0, inplace=True)\n",
    "df['GarageCars'].fillna(0, inplace=True)\n",
    "df['GarageYrBlt'].fillna(0, inplace=True)\n",
    "\n",
    "# LotFrontage : NA most likely means no lot frontage\n",
    "df['LotFrontage'].fillna(0, inplace=True)\n",
    "\n",
    "# MasVnrType : NA most likely means no veneer\n",
    "df['MasVnrType'].fillna('NA', inplace=True)\n",
    "df['MasVnrArea'].fillna(0, inplace=True)\n",
    "\n",
    "# MiscFeature : data description says NA means 'no misc feature'\n",
    "df['MiscFeature'].fillna('NA', inplace=True)\n",
    "\n",
    "# PoolQC : data description says NA means 'no pool'\n",
    "df['PoolQC'].fillna('NA', inplace=True)\n",
    "\n",
    "# Electrical : NA most likely means Standard Circuit\n",
    "df['Electrical'].fillna('SBrkr', inplace=True)\n"
   ]
  },
  {
   "cell_type": "code",
   "execution_count": 16,
   "metadata": {},
   "outputs": [
    {
     "data": {
      "text/plain": [
       "0"
      ]
     },
     "execution_count": 16,
     "metadata": {},
     "output_type": "execute_result"
    }
   ],
   "source": [
    "df.isnull().sum().sum()"
   ]
  },
  {
   "cell_type": "code",
   "execution_count": 17,
   "metadata": {},
   "outputs": [
    {
     "data": {
      "text/plain": [
       "20     1079\n",
       "60      575\n",
       "50      287\n",
       "120     192\n",
       "30      139\n",
       "160     129\n",
       "70      128\n",
       "80      118\n",
       "90      109\n",
       "190      61\n",
       "85       48\n",
       "75       23\n",
       "45       18\n",
       "180      17\n",
       "40        6\n",
       "150       1\n",
       "Name: MSSubClass, dtype: int64"
      ]
     },
     "execution_count": 17,
     "metadata": {},
     "output_type": "execute_result"
    }
   ],
   "source": [
    "df['MSSubClass'].value_counts()"
   ]
  },
  {
   "cell_type": "code",
   "execution_count": 18,
   "metadata": {},
   "outputs": [],
   "source": [
    "# Some numerical features are actually really categories\n",
    "\n",
    "df['MSSubClass'] = df['MSSubClass'].replace({20 : 'SC20', 30 : 'SC30', 40 : 'SC40', 45 : 'SC45', \n",
    "                          50 : 'SC50', 60 : 'SC60', 70 : 'SC70', 75 : 'SC75', \n",
    "                          80 : 'SC80', 85 : 'SC85', 90 : 'SC90', 120 : 'SC120', \n",
    "                          150 : 'SC150', 160 : 'SC160', 180 : 'SC180', 190 : 'SC190'})"
   ]
  },
  {
   "cell_type": "code",
   "execution_count": 19,
   "metadata": {},
   "outputs": [],
   "source": [
    "df['MoSold'] = df['MoSold'].replace({1 : 'Jan', 2 : 'Feb', 3 : 'Mar', 4 : 'Apr', 5 : 'May', 6 : 'Jun',\n",
    "                                     7 : 'Jul', 8 : 'Aug', 9 : 'Sep', 10 : 'Oct', 11 : 'Nov', 12 : 'Dec'})"
   ]
  },
  {
   "cell_type": "code",
   "execution_count": 20,
   "metadata": {},
   "outputs": [],
   "source": [
    "# Encode some categorical features as ordered numbers when there is information in the order\n",
    "\n",
    "df['Alley'] = df['Alley'].replace({'NA' : 0, 'Grvl' : 1, 'Pave' : 2})\n",
    "df['BsmtCond'] = df['BsmtCond'].replace({'NA' : 0, 'Po' : 1, 'Fa' : 2, 'TA' : 3, 'Gd' : 4, 'Ex' : 5})\n",
    "df['BsmtExposure'] = df['BsmtExposure'].replace({'NA' : 0, 'No' : 0, 'Mn' : 1, 'Av': 2, 'Gd' : 3})\n",
    "df['BsmtFinType1'] = df['BsmtFinType1'].replace({'NA' : 0, 'Unf' : 1, 'LwQ': 2, 'Rec' : 3, 'BLQ' : 4, \n",
    "                                                 'ALQ' : 5, 'GLQ' : 6})\n",
    "df['BsmtFinType2'] = df['BsmtFinType2'].replace({'NA' : 0, 'Unf' : 1, 'LwQ': 2, 'Rec' : 3, 'BLQ' : 4, \n",
    "                                                 'ALQ' : 5, 'GLQ' : 6})\n",
    "df['BsmtQual'] = df['BsmtQual'].replace({'NA' : 0, 'Po' : 1, 'Fa' : 2, 'TA': 3, 'Gd' : 4, 'Ex' : 5})\n",
    "df['CentralAir'] = df['CentralAir'].replace({'N' : 0, 'Y' : 1})\n",
    "df['ExterCond'] = df['ExterCond'].replace({'Po' : 1, 'Fa' : 2, 'TA': 3, 'Gd': 4, 'Ex' : 5})\n",
    "df['ExterQual'] = df['ExterQual'].replace({'Po' : 1, 'Fa' : 2, 'TA': 3, 'Gd': 4, 'Ex' : 5})\n",
    "df['Electrical'] = df['Electrical'].replace({'Mix' : 0, 'FuseP' : 1, 'FuseF': 2, 'FuseA': 3, 'SBrkr' : 4})\n",
    "df['Fence'] = df['Fence'].replace({'NA' : 0, 'MnWw' : 1, 'MnPrv' : 1, 'GdWo' : 2, 'GdPrv' : 2})\n",
    "df['FireplaceQu'] = df['FireplaceQu'].replace({'NA' : 0, 'Po' : 1, 'Fa' : 2, 'TA' : 3, 'Gd' : 4, 'Ex' : 5})\n",
    "df['Functional'] = df['Functional'].replace({'Sal' : 1, 'Sev' : 2, 'Maj2' : 3, 'Maj1' : 4, 'Mod': 5, \n",
    "                                             'Min2' : 6, 'Min1' : 7, 'Typ' : 8})\n",
    "df['GarageCond'] = df['GarageCond'].replace({'NA' : 0, 'Po' : 1, 'Fa' : 2, 'TA' : 3, 'Gd' : 4, 'Ex' : 5})\n",
    "df['GarageFinish'] = df['GarageFinish'].replace({'NA' : 0, 'Unf' : 1, 'RFn' : 2, 'Fin' : 3})\n",
    "df['GarageQual'] = df['GarageQual'].replace({'NA' : 0, 'Po' : 1, 'Fa' : 2, 'TA' : 3, 'Gd' : 4, 'Ex' : 5})\n",
    "df['HeatingQC'] = df['HeatingQC'].replace({'Po' : 1, 'Fa' : 2, 'TA' : 3, 'Gd' : 4, 'Ex' : 5})\n",
    "df['KitchenQual'] = df['KitchenQual'].replace({'Po' : 1, 'Fa' : 2, 'TA' : 3, 'Gd' : 4, 'Ex' : 5})\n",
    "df['LandSlope'] = df['LandSlope'].replace({'Sev' : 1, 'Mod' : 2, 'Gtl' : 3})\n",
    "df['LotShape'] = df['LotShape'].replace({'IR3' : 1, 'IR2' : 2, 'IR1' : 3, 'Reg' : 4})\n",
    "df['PavedDrive'] = df['PavedDrive'].replace({'N' : 0, 'P' : 1, 'Y' : 2})\n",
    "df['PoolQC'] = df['PoolQC'].replace({'NA' : 0, 'Fa' : 1, 'TA' : 2, 'Gd' : 3, 'Ex' : 4})\n",
    "df['Street'] = df['Street'].replace({'Grvl' : 1, 'Pave' : 2})\n",
    "df['Utilities'] = df['Utilities'].replace({'ELO' : 1, 'NoSeWa' : 2, 'NoSewr' : 3, 'AllPub' : 4})\n"
   ]
  },
  {
   "cell_type": "code",
   "execution_count": 21,
   "metadata": {
    "scrolled": false
   },
   "outputs": [
    {
     "data": {
      "text/html": [
       "<div>\n",
       "<style scoped>\n",
       "    .dataframe tbody tr th:only-of-type {\n",
       "        vertical-align: middle;\n",
       "    }\n",
       "\n",
       "    .dataframe tbody tr th {\n",
       "        vertical-align: top;\n",
       "    }\n",
       "\n",
       "    .dataframe thead th {\n",
       "        text-align: right;\n",
       "    }\n",
       "</style>\n",
       "<table border=\"1\" class=\"dataframe\">\n",
       "  <thead>\n",
       "    <tr style=\"text-align: right;\">\n",
       "      <th></th>\n",
       "      <th>count</th>\n",
       "      <th>mean</th>\n",
       "      <th>std</th>\n",
       "      <th>min</th>\n",
       "      <th>25%</th>\n",
       "      <th>50%</th>\n",
       "      <th>75%</th>\n",
       "      <th>max</th>\n",
       "    </tr>\n",
       "  </thead>\n",
       "  <tbody>\n",
       "    <tr>\n",
       "      <th>Id</th>\n",
       "      <td>2930.0</td>\n",
       "      <td>1.465500e+03</td>\n",
       "      <td>8.459625e+02</td>\n",
       "      <td>1.0</td>\n",
       "      <td>7.332500e+02</td>\n",
       "      <td>1465.5</td>\n",
       "      <td>2.197750e+03</td>\n",
       "      <td>2.930000e+03</td>\n",
       "    </tr>\n",
       "    <tr>\n",
       "      <th>PID</th>\n",
       "      <td>2930.0</td>\n",
       "      <td>7.144645e+08</td>\n",
       "      <td>1.887308e+08</td>\n",
       "      <td>526301100.0</td>\n",
       "      <td>5.284770e+08</td>\n",
       "      <td>535453620.0</td>\n",
       "      <td>9.071811e+08</td>\n",
       "      <td>1.007100e+09</td>\n",
       "    </tr>\n",
       "    <tr>\n",
       "      <th>LotFrontage</th>\n",
       "      <td>2930.0</td>\n",
       "      <td>5.764778e+01</td>\n",
       "      <td>3.349944e+01</td>\n",
       "      <td>0.0</td>\n",
       "      <td>4.300000e+01</td>\n",
       "      <td>63.0</td>\n",
       "      <td>7.800000e+01</td>\n",
       "      <td>3.130000e+02</td>\n",
       "    </tr>\n",
       "    <tr>\n",
       "      <th>LotArea</th>\n",
       "      <td>2930.0</td>\n",
       "      <td>1.014792e+04</td>\n",
       "      <td>7.880018e+03</td>\n",
       "      <td>1300.0</td>\n",
       "      <td>7.440250e+03</td>\n",
       "      <td>9436.5</td>\n",
       "      <td>1.155525e+04</td>\n",
       "      <td>2.152450e+05</td>\n",
       "    </tr>\n",
       "    <tr>\n",
       "      <th>Street</th>\n",
       "      <td>2930.0</td>\n",
       "      <td>1.995904e+00</td>\n",
       "      <td>6.387630e-02</td>\n",
       "      <td>1.0</td>\n",
       "      <td>2.000000e+00</td>\n",
       "      <td>2.0</td>\n",
       "      <td>2.000000e+00</td>\n",
       "      <td>2.000000e+00</td>\n",
       "    </tr>\n",
       "    <tr>\n",
       "      <th>Alley</th>\n",
       "      <td>2930.0</td>\n",
       "      <td>9.419795e-02</td>\n",
       "      <td>3.723095e-01</td>\n",
       "      <td>0.0</td>\n",
       "      <td>0.000000e+00</td>\n",
       "      <td>0.0</td>\n",
       "      <td>0.000000e+00</td>\n",
       "      <td>2.000000e+00</td>\n",
       "    </tr>\n",
       "    <tr>\n",
       "      <th>LotShape</th>\n",
       "      <td>2930.0</td>\n",
       "      <td>3.597611e+00</td>\n",
       "      <td>5.702848e-01</td>\n",
       "      <td>1.0</td>\n",
       "      <td>3.000000e+00</td>\n",
       "      <td>4.0</td>\n",
       "      <td>4.000000e+00</td>\n",
       "      <td>4.000000e+00</td>\n",
       "    </tr>\n",
       "    <tr>\n",
       "      <th>Utilities</th>\n",
       "      <td>2930.0</td>\n",
       "      <td>3.998635e+00</td>\n",
       "      <td>4.523954e-02</td>\n",
       "      <td>2.0</td>\n",
       "      <td>4.000000e+00</td>\n",
       "      <td>4.0</td>\n",
       "      <td>4.000000e+00</td>\n",
       "      <td>4.000000e+00</td>\n",
       "    </tr>\n",
       "    <tr>\n",
       "      <th>LandSlope</th>\n",
       "      <td>2930.0</td>\n",
       "      <td>2.946416e+00</td>\n",
       "      <td>2.483042e-01</td>\n",
       "      <td>1.0</td>\n",
       "      <td>3.000000e+00</td>\n",
       "      <td>3.0</td>\n",
       "      <td>3.000000e+00</td>\n",
       "      <td>3.000000e+00</td>\n",
       "    </tr>\n",
       "    <tr>\n",
       "      <th>OverallQual</th>\n",
       "      <td>2930.0</td>\n",
       "      <td>6.094881e+00</td>\n",
       "      <td>1.411026e+00</td>\n",
       "      <td>1.0</td>\n",
       "      <td>5.000000e+00</td>\n",
       "      <td>6.0</td>\n",
       "      <td>7.000000e+00</td>\n",
       "      <td>1.000000e+01</td>\n",
       "    </tr>\n",
       "    <tr>\n",
       "      <th>OverallCond</th>\n",
       "      <td>2930.0</td>\n",
       "      <td>5.563140e+00</td>\n",
       "      <td>1.111537e+00</td>\n",
       "      <td>1.0</td>\n",
       "      <td>5.000000e+00</td>\n",
       "      <td>5.0</td>\n",
       "      <td>6.000000e+00</td>\n",
       "      <td>9.000000e+00</td>\n",
       "    </tr>\n",
       "    <tr>\n",
       "      <th>YearBuilt</th>\n",
       "      <td>2930.0</td>\n",
       "      <td>1.971356e+03</td>\n",
       "      <td>3.024536e+01</td>\n",
       "      <td>1872.0</td>\n",
       "      <td>1.954000e+03</td>\n",
       "      <td>1973.0</td>\n",
       "      <td>2.001000e+03</td>\n",
       "      <td>2.010000e+03</td>\n",
       "    </tr>\n",
       "    <tr>\n",
       "      <th>YearRemod/Add</th>\n",
       "      <td>2930.0</td>\n",
       "      <td>1.984267e+03</td>\n",
       "      <td>2.086029e+01</td>\n",
       "      <td>1950.0</td>\n",
       "      <td>1.965000e+03</td>\n",
       "      <td>1993.0</td>\n",
       "      <td>2.004000e+03</td>\n",
       "      <td>2.010000e+03</td>\n",
       "    </tr>\n",
       "    <tr>\n",
       "      <th>MasVnrArea</th>\n",
       "      <td>2930.0</td>\n",
       "      <td>1.010969e+02</td>\n",
       "      <td>1.786345e+02</td>\n",
       "      <td>0.0</td>\n",
       "      <td>0.000000e+00</td>\n",
       "      <td>0.0</td>\n",
       "      <td>1.627500e+02</td>\n",
       "      <td>1.600000e+03</td>\n",
       "    </tr>\n",
       "    <tr>\n",
       "      <th>ExterQual</th>\n",
       "      <td>2930.0</td>\n",
       "      <td>3.398635e+00</td>\n",
       "      <td>5.803175e-01</td>\n",
       "      <td>2.0</td>\n",
       "      <td>3.000000e+00</td>\n",
       "      <td>3.0</td>\n",
       "      <td>4.000000e+00</td>\n",
       "      <td>5.000000e+00</td>\n",
       "    </tr>\n",
       "    <tr>\n",
       "      <th>ExterCond</th>\n",
       "      <td>2930.0</td>\n",
       "      <td>3.085324e+00</td>\n",
       "      <td>3.716980e-01</td>\n",
       "      <td>1.0</td>\n",
       "      <td>3.000000e+00</td>\n",
       "      <td>3.0</td>\n",
       "      <td>3.000000e+00</td>\n",
       "      <td>5.000000e+00</td>\n",
       "    </tr>\n",
       "    <tr>\n",
       "      <th>BsmtQual</th>\n",
       "      <td>2930.0</td>\n",
       "      <td>3.478840e+00</td>\n",
       "      <td>9.042950e-01</td>\n",
       "      <td>0.0</td>\n",
       "      <td>3.000000e+00</td>\n",
       "      <td>4.0</td>\n",
       "      <td>4.000000e+00</td>\n",
       "      <td>5.000000e+00</td>\n",
       "    </tr>\n",
       "    <tr>\n",
       "      <th>BsmtCond</th>\n",
       "      <td>2930.0</td>\n",
       "      <td>2.922867e+00</td>\n",
       "      <td>5.726699e-01</td>\n",
       "      <td>0.0</td>\n",
       "      <td>3.000000e+00</td>\n",
       "      <td>3.0</td>\n",
       "      <td>3.000000e+00</td>\n",
       "      <td>5.000000e+00</td>\n",
       "    </tr>\n",
       "    <tr>\n",
       "      <th>BsmtExposure</th>\n",
       "      <td>2930.0</td>\n",
       "      <td>6.576792e-01</td>\n",
       "      <td>1.045181e+00</td>\n",
       "      <td>0.0</td>\n",
       "      <td>0.000000e+00</td>\n",
       "      <td>0.0</td>\n",
       "      <td>1.000000e+00</td>\n",
       "      <td>3.000000e+00</td>\n",
       "    </tr>\n",
       "    <tr>\n",
       "      <th>BsmtFinType1</th>\n",
       "      <td>2930.0</td>\n",
       "      <td>3.548805e+00</td>\n",
       "      <td>2.115762e+00</td>\n",
       "      <td>0.0</td>\n",
       "      <td>1.000000e+00</td>\n",
       "      <td>4.0</td>\n",
       "      <td>6.000000e+00</td>\n",
       "      <td>6.000000e+00</td>\n",
       "    </tr>\n",
       "    <tr>\n",
       "      <th>BsmtFinSF1</th>\n",
       "      <td>2930.0</td>\n",
       "      <td>4.424785e+02</td>\n",
       "      <td>4.555865e+02</td>\n",
       "      <td>0.0</td>\n",
       "      <td>0.000000e+00</td>\n",
       "      <td>370.0</td>\n",
       "      <td>7.340000e+02</td>\n",
       "      <td>5.644000e+03</td>\n",
       "    </tr>\n",
       "    <tr>\n",
       "      <th>BsmtFinType2</th>\n",
       "      <td>2930.0</td>\n",
       "      <td>1.275085e+00</td>\n",
       "      <td>9.569571e-01</td>\n",
       "      <td>0.0</td>\n",
       "      <td>1.000000e+00</td>\n",
       "      <td>1.0</td>\n",
       "      <td>1.000000e+00</td>\n",
       "      <td>6.000000e+00</td>\n",
       "    </tr>\n",
       "    <tr>\n",
       "      <th>BsmtFinSF2</th>\n",
       "      <td>2930.0</td>\n",
       "      <td>4.970546e+01</td>\n",
       "      <td>1.691421e+02</td>\n",
       "      <td>0.0</td>\n",
       "      <td>0.000000e+00</td>\n",
       "      <td>0.0</td>\n",
       "      <td>0.000000e+00</td>\n",
       "      <td>1.526000e+03</td>\n",
       "    </tr>\n",
       "    <tr>\n",
       "      <th>BsmtUnfSF</th>\n",
       "      <td>2930.0</td>\n",
       "      <td>5.590717e+02</td>\n",
       "      <td>4.395406e+02</td>\n",
       "      <td>0.0</td>\n",
       "      <td>2.190000e+02</td>\n",
       "      <td>465.5</td>\n",
       "      <td>8.017500e+02</td>\n",
       "      <td>2.336000e+03</td>\n",
       "    </tr>\n",
       "    <tr>\n",
       "      <th>TotalBsmtSF</th>\n",
       "      <td>2930.0</td>\n",
       "      <td>1.051256e+03</td>\n",
       "      <td>4.409680e+02</td>\n",
       "      <td>0.0</td>\n",
       "      <td>7.930000e+02</td>\n",
       "      <td>990.0</td>\n",
       "      <td>1.301500e+03</td>\n",
       "      <td>6.110000e+03</td>\n",
       "    </tr>\n",
       "    <tr>\n",
       "      <th>HeatingQC</th>\n",
       "      <td>2930.0</td>\n",
       "      <td>4.149488e+00</td>\n",
       "      <td>9.580701e-01</td>\n",
       "      <td>1.0</td>\n",
       "      <td>3.000000e+00</td>\n",
       "      <td>5.0</td>\n",
       "      <td>5.000000e+00</td>\n",
       "      <td>5.000000e+00</td>\n",
       "    </tr>\n",
       "    <tr>\n",
       "      <th>CentralAir</th>\n",
       "      <td>2930.0</td>\n",
       "      <td>9.331058e-01</td>\n",
       "      <td>2.498813e-01</td>\n",
       "      <td>0.0</td>\n",
       "      <td>1.000000e+00</td>\n",
       "      <td>1.0</td>\n",
       "      <td>1.000000e+00</td>\n",
       "      <td>1.000000e+00</td>\n",
       "    </tr>\n",
       "    <tr>\n",
       "      <th>Electrical</th>\n",
       "      <td>2930.0</td>\n",
       "      <td>3.892150e+00</td>\n",
       "      <td>3.884292e-01</td>\n",
       "      <td>0.0</td>\n",
       "      <td>4.000000e+00</td>\n",
       "      <td>4.0</td>\n",
       "      <td>4.000000e+00</td>\n",
       "      <td>4.000000e+00</td>\n",
       "    </tr>\n",
       "    <tr>\n",
       "      <th>1stFlrSF</th>\n",
       "      <td>2930.0</td>\n",
       "      <td>1.159558e+03</td>\n",
       "      <td>3.918909e+02</td>\n",
       "      <td>334.0</td>\n",
       "      <td>8.762500e+02</td>\n",
       "      <td>1084.0</td>\n",
       "      <td>1.384000e+03</td>\n",
       "      <td>5.095000e+03</td>\n",
       "    </tr>\n",
       "    <tr>\n",
       "      <th>2ndFlrSF</th>\n",
       "      <td>2930.0</td>\n",
       "      <td>3.354560e+02</td>\n",
       "      <td>4.283957e+02</td>\n",
       "      <td>0.0</td>\n",
       "      <td>0.000000e+00</td>\n",
       "      <td>0.0</td>\n",
       "      <td>7.037500e+02</td>\n",
       "      <td>2.065000e+03</td>\n",
       "    </tr>\n",
       "    <tr>\n",
       "      <th>...</th>\n",
       "      <td>...</td>\n",
       "      <td>...</td>\n",
       "      <td>...</td>\n",
       "      <td>...</td>\n",
       "      <td>...</td>\n",
       "      <td>...</td>\n",
       "      <td>...</td>\n",
       "      <td>...</td>\n",
       "    </tr>\n",
       "    <tr>\n",
       "      <th>GrLivArea</th>\n",
       "      <td>2930.0</td>\n",
       "      <td>1.499690e+03</td>\n",
       "      <td>5.055089e+02</td>\n",
       "      <td>334.0</td>\n",
       "      <td>1.126000e+03</td>\n",
       "      <td>1442.0</td>\n",
       "      <td>1.742750e+03</td>\n",
       "      <td>5.642000e+03</td>\n",
       "    </tr>\n",
       "    <tr>\n",
       "      <th>BsmtFullBath</th>\n",
       "      <td>2930.0</td>\n",
       "      <td>4.310580e-01</td>\n",
       "      <td>5.247620e-01</td>\n",
       "      <td>0.0</td>\n",
       "      <td>0.000000e+00</td>\n",
       "      <td>0.0</td>\n",
       "      <td>1.000000e+00</td>\n",
       "      <td>3.000000e+00</td>\n",
       "    </tr>\n",
       "    <tr>\n",
       "      <th>BsmtHalfBath</th>\n",
       "      <td>2930.0</td>\n",
       "      <td>6.109215e-02</td>\n",
       "      <td>2.451750e-01</td>\n",
       "      <td>0.0</td>\n",
       "      <td>0.000000e+00</td>\n",
       "      <td>0.0</td>\n",
       "      <td>0.000000e+00</td>\n",
       "      <td>2.000000e+00</td>\n",
       "    </tr>\n",
       "    <tr>\n",
       "      <th>FullBath</th>\n",
       "      <td>2930.0</td>\n",
       "      <td>1.566553e+00</td>\n",
       "      <td>5.529406e-01</td>\n",
       "      <td>0.0</td>\n",
       "      <td>1.000000e+00</td>\n",
       "      <td>2.0</td>\n",
       "      <td>2.000000e+00</td>\n",
       "      <td>4.000000e+00</td>\n",
       "    </tr>\n",
       "    <tr>\n",
       "      <th>HalfBath</th>\n",
       "      <td>2930.0</td>\n",
       "      <td>3.795222e-01</td>\n",
       "      <td>5.026293e-01</td>\n",
       "      <td>0.0</td>\n",
       "      <td>0.000000e+00</td>\n",
       "      <td>0.0</td>\n",
       "      <td>1.000000e+00</td>\n",
       "      <td>2.000000e+00</td>\n",
       "    </tr>\n",
       "    <tr>\n",
       "      <th>BedroomAbvGr</th>\n",
       "      <td>2930.0</td>\n",
       "      <td>2.854266e+00</td>\n",
       "      <td>8.277311e-01</td>\n",
       "      <td>0.0</td>\n",
       "      <td>2.000000e+00</td>\n",
       "      <td>3.0</td>\n",
       "      <td>3.000000e+00</td>\n",
       "      <td>8.000000e+00</td>\n",
       "    </tr>\n",
       "    <tr>\n",
       "      <th>KitchenAbvGr</th>\n",
       "      <td>2930.0</td>\n",
       "      <td>1.044369e+00</td>\n",
       "      <td>2.140762e-01</td>\n",
       "      <td>0.0</td>\n",
       "      <td>1.000000e+00</td>\n",
       "      <td>1.0</td>\n",
       "      <td>1.000000e+00</td>\n",
       "      <td>3.000000e+00</td>\n",
       "    </tr>\n",
       "    <tr>\n",
       "      <th>KitchenQual</th>\n",
       "      <td>2930.0</td>\n",
       "      <td>3.511263e+00</td>\n",
       "      <td>6.631624e-01</td>\n",
       "      <td>1.0</td>\n",
       "      <td>3.000000e+00</td>\n",
       "      <td>3.0</td>\n",
       "      <td>4.000000e+00</td>\n",
       "      <td>5.000000e+00</td>\n",
       "    </tr>\n",
       "    <tr>\n",
       "      <th>TotRmsAbvGrd</th>\n",
       "      <td>2930.0</td>\n",
       "      <td>6.443003e+00</td>\n",
       "      <td>1.572964e+00</td>\n",
       "      <td>2.0</td>\n",
       "      <td>5.000000e+00</td>\n",
       "      <td>6.0</td>\n",
       "      <td>7.000000e+00</td>\n",
       "      <td>1.500000e+01</td>\n",
       "    </tr>\n",
       "    <tr>\n",
       "      <th>Functional</th>\n",
       "      <td>2930.0</td>\n",
       "      <td>7.844027e+00</td>\n",
       "      <td>6.630574e-01</td>\n",
       "      <td>1.0</td>\n",
       "      <td>8.000000e+00</td>\n",
       "      <td>8.0</td>\n",
       "      <td>8.000000e+00</td>\n",
       "      <td>8.000000e+00</td>\n",
       "    </tr>\n",
       "    <tr>\n",
       "      <th>Fireplaces</th>\n",
       "      <td>2930.0</td>\n",
       "      <td>5.993174e-01</td>\n",
       "      <td>6.479209e-01</td>\n",
       "      <td>0.0</td>\n",
       "      <td>0.000000e+00</td>\n",
       "      <td>1.0</td>\n",
       "      <td>1.000000e+00</td>\n",
       "      <td>4.000000e+00</td>\n",
       "    </tr>\n",
       "    <tr>\n",
       "      <th>FireplaceQu</th>\n",
       "      <td>2930.0</td>\n",
       "      <td>1.770307e+00</td>\n",
       "      <td>1.804968e+00</td>\n",
       "      <td>0.0</td>\n",
       "      <td>0.000000e+00</td>\n",
       "      <td>1.0</td>\n",
       "      <td>4.000000e+00</td>\n",
       "      <td>5.000000e+00</td>\n",
       "    </tr>\n",
       "    <tr>\n",
       "      <th>GarageYrBlt</th>\n",
       "      <td>2930.0</td>\n",
       "      <td>1.870787e+03</td>\n",
       "      <td>4.488941e+02</td>\n",
       "      <td>0.0</td>\n",
       "      <td>1.957000e+03</td>\n",
       "      <td>1977.0</td>\n",
       "      <td>2.001000e+03</td>\n",
       "      <td>2.207000e+03</td>\n",
       "    </tr>\n",
       "    <tr>\n",
       "      <th>GarageFinish</th>\n",
       "      <td>2930.0</td>\n",
       "      <td>1.719795e+00</td>\n",
       "      <td>8.985691e-01</td>\n",
       "      <td>0.0</td>\n",
       "      <td>1.000000e+00</td>\n",
       "      <td>2.0</td>\n",
       "      <td>2.000000e+00</td>\n",
       "      <td>3.000000e+00</td>\n",
       "    </tr>\n",
       "    <tr>\n",
       "      <th>GarageCars</th>\n",
       "      <td>2930.0</td>\n",
       "      <td>1.766212e+00</td>\n",
       "      <td>7.611367e-01</td>\n",
       "      <td>0.0</td>\n",
       "      <td>1.000000e+00</td>\n",
       "      <td>2.0</td>\n",
       "      <td>2.000000e+00</td>\n",
       "      <td>5.000000e+00</td>\n",
       "    </tr>\n",
       "    <tr>\n",
       "      <th>GarageArea</th>\n",
       "      <td>2930.0</td>\n",
       "      <td>4.726584e+02</td>\n",
       "      <td>2.151872e+02</td>\n",
       "      <td>0.0</td>\n",
       "      <td>3.200000e+02</td>\n",
       "      <td>480.0</td>\n",
       "      <td>5.760000e+02</td>\n",
       "      <td>1.488000e+03</td>\n",
       "    </tr>\n",
       "    <tr>\n",
       "      <th>GarageQual</th>\n",
       "      <td>2930.0</td>\n",
       "      <td>2.801706e+00</td>\n",
       "      <td>7.146211e-01</td>\n",
       "      <td>0.0</td>\n",
       "      <td>3.000000e+00</td>\n",
       "      <td>3.0</td>\n",
       "      <td>3.000000e+00</td>\n",
       "      <td>5.000000e+00</td>\n",
       "    </tr>\n",
       "    <tr>\n",
       "      <th>GarageCond</th>\n",
       "      <td>2930.0</td>\n",
       "      <td>2.809556e+00</td>\n",
       "      <td>7.112548e-01</td>\n",
       "      <td>0.0</td>\n",
       "      <td>3.000000e+00</td>\n",
       "      <td>3.0</td>\n",
       "      <td>3.000000e+00</td>\n",
       "      <td>5.000000e+00</td>\n",
       "    </tr>\n",
       "    <tr>\n",
       "      <th>PavedDrive</th>\n",
       "      <td>2930.0</td>\n",
       "      <td>1.831399e+00</td>\n",
       "      <td>5.363888e-01</td>\n",
       "      <td>0.0</td>\n",
       "      <td>2.000000e+00</td>\n",
       "      <td>2.0</td>\n",
       "      <td>2.000000e+00</td>\n",
       "      <td>2.000000e+00</td>\n",
       "    </tr>\n",
       "    <tr>\n",
       "      <th>WoodDeckSF</th>\n",
       "      <td>2930.0</td>\n",
       "      <td>9.375188e+01</td>\n",
       "      <td>1.263616e+02</td>\n",
       "      <td>0.0</td>\n",
       "      <td>0.000000e+00</td>\n",
       "      <td>0.0</td>\n",
       "      <td>1.680000e+02</td>\n",
       "      <td>1.424000e+03</td>\n",
       "    </tr>\n",
       "    <tr>\n",
       "      <th>OpenPorchSF</th>\n",
       "      <td>2930.0</td>\n",
       "      <td>4.753345e+01</td>\n",
       "      <td>6.748340e+01</td>\n",
       "      <td>0.0</td>\n",
       "      <td>0.000000e+00</td>\n",
       "      <td>27.0</td>\n",
       "      <td>7.000000e+01</td>\n",
       "      <td>7.420000e+02</td>\n",
       "    </tr>\n",
       "    <tr>\n",
       "      <th>EnclosedPorch</th>\n",
       "      <td>2930.0</td>\n",
       "      <td>2.301160e+01</td>\n",
       "      <td>6.413906e+01</td>\n",
       "      <td>0.0</td>\n",
       "      <td>0.000000e+00</td>\n",
       "      <td>0.0</td>\n",
       "      <td>0.000000e+00</td>\n",
       "      <td>1.012000e+03</td>\n",
       "    </tr>\n",
       "    <tr>\n",
       "      <th>3SsnPorch</th>\n",
       "      <td>2930.0</td>\n",
       "      <td>2.592491e+00</td>\n",
       "      <td>2.514133e+01</td>\n",
       "      <td>0.0</td>\n",
       "      <td>0.000000e+00</td>\n",
       "      <td>0.0</td>\n",
       "      <td>0.000000e+00</td>\n",
       "      <td>5.080000e+02</td>\n",
       "    </tr>\n",
       "    <tr>\n",
       "      <th>ScreenPorch</th>\n",
       "      <td>2930.0</td>\n",
       "      <td>1.600205e+01</td>\n",
       "      <td>5.608737e+01</td>\n",
       "      <td>0.0</td>\n",
       "      <td>0.000000e+00</td>\n",
       "      <td>0.0</td>\n",
       "      <td>0.000000e+00</td>\n",
       "      <td>5.760000e+02</td>\n",
       "    </tr>\n",
       "    <tr>\n",
       "      <th>PoolArea</th>\n",
       "      <td>2930.0</td>\n",
       "      <td>2.243345e+00</td>\n",
       "      <td>3.559718e+01</td>\n",
       "      <td>0.0</td>\n",
       "      <td>0.000000e+00</td>\n",
       "      <td>0.0</td>\n",
       "      <td>0.000000e+00</td>\n",
       "      <td>8.000000e+02</td>\n",
       "    </tr>\n",
       "    <tr>\n",
       "      <th>PoolQC</th>\n",
       "      <td>2930.0</td>\n",
       "      <td>1.228669e-02</td>\n",
       "      <td>1.969013e-01</td>\n",
       "      <td>0.0</td>\n",
       "      <td>0.000000e+00</td>\n",
       "      <td>0.0</td>\n",
       "      <td>0.000000e+00</td>\n",
       "      <td>4.000000e+00</td>\n",
       "    </tr>\n",
       "    <tr>\n",
       "      <th>Fence</th>\n",
       "      <td>2930.0</td>\n",
       "      <td>2.737201e-01</td>\n",
       "      <td>5.965865e-01</td>\n",
       "      <td>0.0</td>\n",
       "      <td>0.000000e+00</td>\n",
       "      <td>0.0</td>\n",
       "      <td>0.000000e+00</td>\n",
       "      <td>2.000000e+00</td>\n",
       "    </tr>\n",
       "    <tr>\n",
       "      <th>MiscVal</th>\n",
       "      <td>2930.0</td>\n",
       "      <td>5.063515e+01</td>\n",
       "      <td>5.663443e+02</td>\n",
       "      <td>0.0</td>\n",
       "      <td>0.000000e+00</td>\n",
       "      <td>0.0</td>\n",
       "      <td>0.000000e+00</td>\n",
       "      <td>1.700000e+04</td>\n",
       "    </tr>\n",
       "    <tr>\n",
       "      <th>YrSold</th>\n",
       "      <td>2930.0</td>\n",
       "      <td>2.007790e+03</td>\n",
       "      <td>1.316613e+00</td>\n",
       "      <td>2006.0</td>\n",
       "      <td>2.007000e+03</td>\n",
       "      <td>2008.0</td>\n",
       "      <td>2.009000e+03</td>\n",
       "      <td>2.010000e+03</td>\n",
       "    </tr>\n",
       "    <tr>\n",
       "      <th>SalePrice</th>\n",
       "      <td>2930.0</td>\n",
       "      <td>1.270288e+05</td>\n",
       "      <td>1.063703e+05</td>\n",
       "      <td>0.0</td>\n",
       "      <td>0.000000e+00</td>\n",
       "      <td>134500.0</td>\n",
       "      <td>1.866000e+05</td>\n",
       "      <td>6.116570e+05</td>\n",
       "    </tr>\n",
       "  </tbody>\n",
       "</table>\n",
       "<p>61 rows × 8 columns</p>\n",
       "</div>"
      ],
      "text/plain": [
       "                count          mean           std          min           25%  \\\n",
       "Id             2930.0  1.465500e+03  8.459625e+02          1.0  7.332500e+02   \n",
       "PID            2930.0  7.144645e+08  1.887308e+08  526301100.0  5.284770e+08   \n",
       "LotFrontage    2930.0  5.764778e+01  3.349944e+01          0.0  4.300000e+01   \n",
       "LotArea        2930.0  1.014792e+04  7.880018e+03       1300.0  7.440250e+03   \n",
       "Street         2930.0  1.995904e+00  6.387630e-02          1.0  2.000000e+00   \n",
       "Alley          2930.0  9.419795e-02  3.723095e-01          0.0  0.000000e+00   \n",
       "LotShape       2930.0  3.597611e+00  5.702848e-01          1.0  3.000000e+00   \n",
       "Utilities      2930.0  3.998635e+00  4.523954e-02          2.0  4.000000e+00   \n",
       "LandSlope      2930.0  2.946416e+00  2.483042e-01          1.0  3.000000e+00   \n",
       "OverallQual    2930.0  6.094881e+00  1.411026e+00          1.0  5.000000e+00   \n",
       "OverallCond    2930.0  5.563140e+00  1.111537e+00          1.0  5.000000e+00   \n",
       "YearBuilt      2930.0  1.971356e+03  3.024536e+01       1872.0  1.954000e+03   \n",
       "YearRemod/Add  2930.0  1.984267e+03  2.086029e+01       1950.0  1.965000e+03   \n",
       "MasVnrArea     2930.0  1.010969e+02  1.786345e+02          0.0  0.000000e+00   \n",
       "ExterQual      2930.0  3.398635e+00  5.803175e-01          2.0  3.000000e+00   \n",
       "ExterCond      2930.0  3.085324e+00  3.716980e-01          1.0  3.000000e+00   \n",
       "BsmtQual       2930.0  3.478840e+00  9.042950e-01          0.0  3.000000e+00   \n",
       "BsmtCond       2930.0  2.922867e+00  5.726699e-01          0.0  3.000000e+00   \n",
       "BsmtExposure   2930.0  6.576792e-01  1.045181e+00          0.0  0.000000e+00   \n",
       "BsmtFinType1   2930.0  3.548805e+00  2.115762e+00          0.0  1.000000e+00   \n",
       "BsmtFinSF1     2930.0  4.424785e+02  4.555865e+02          0.0  0.000000e+00   \n",
       "BsmtFinType2   2930.0  1.275085e+00  9.569571e-01          0.0  1.000000e+00   \n",
       "BsmtFinSF2     2930.0  4.970546e+01  1.691421e+02          0.0  0.000000e+00   \n",
       "BsmtUnfSF      2930.0  5.590717e+02  4.395406e+02          0.0  2.190000e+02   \n",
       "TotalBsmtSF    2930.0  1.051256e+03  4.409680e+02          0.0  7.930000e+02   \n",
       "HeatingQC      2930.0  4.149488e+00  9.580701e-01          1.0  3.000000e+00   \n",
       "CentralAir     2930.0  9.331058e-01  2.498813e-01          0.0  1.000000e+00   \n",
       "Electrical     2930.0  3.892150e+00  3.884292e-01          0.0  4.000000e+00   \n",
       "1stFlrSF       2930.0  1.159558e+03  3.918909e+02        334.0  8.762500e+02   \n",
       "2ndFlrSF       2930.0  3.354560e+02  4.283957e+02          0.0  0.000000e+00   \n",
       "...               ...           ...           ...          ...           ...   \n",
       "GrLivArea      2930.0  1.499690e+03  5.055089e+02        334.0  1.126000e+03   \n",
       "BsmtFullBath   2930.0  4.310580e-01  5.247620e-01          0.0  0.000000e+00   \n",
       "BsmtHalfBath   2930.0  6.109215e-02  2.451750e-01          0.0  0.000000e+00   \n",
       "FullBath       2930.0  1.566553e+00  5.529406e-01          0.0  1.000000e+00   \n",
       "HalfBath       2930.0  3.795222e-01  5.026293e-01          0.0  0.000000e+00   \n",
       "BedroomAbvGr   2930.0  2.854266e+00  8.277311e-01          0.0  2.000000e+00   \n",
       "KitchenAbvGr   2930.0  1.044369e+00  2.140762e-01          0.0  1.000000e+00   \n",
       "KitchenQual    2930.0  3.511263e+00  6.631624e-01          1.0  3.000000e+00   \n",
       "TotRmsAbvGrd   2930.0  6.443003e+00  1.572964e+00          2.0  5.000000e+00   \n",
       "Functional     2930.0  7.844027e+00  6.630574e-01          1.0  8.000000e+00   \n",
       "Fireplaces     2930.0  5.993174e-01  6.479209e-01          0.0  0.000000e+00   \n",
       "FireplaceQu    2930.0  1.770307e+00  1.804968e+00          0.0  0.000000e+00   \n",
       "GarageYrBlt    2930.0  1.870787e+03  4.488941e+02          0.0  1.957000e+03   \n",
       "GarageFinish   2930.0  1.719795e+00  8.985691e-01          0.0  1.000000e+00   \n",
       "GarageCars     2930.0  1.766212e+00  7.611367e-01          0.0  1.000000e+00   \n",
       "GarageArea     2930.0  4.726584e+02  2.151872e+02          0.0  3.200000e+02   \n",
       "GarageQual     2930.0  2.801706e+00  7.146211e-01          0.0  3.000000e+00   \n",
       "GarageCond     2930.0  2.809556e+00  7.112548e-01          0.0  3.000000e+00   \n",
       "PavedDrive     2930.0  1.831399e+00  5.363888e-01          0.0  2.000000e+00   \n",
       "WoodDeckSF     2930.0  9.375188e+01  1.263616e+02          0.0  0.000000e+00   \n",
       "OpenPorchSF    2930.0  4.753345e+01  6.748340e+01          0.0  0.000000e+00   \n",
       "EnclosedPorch  2930.0  2.301160e+01  6.413906e+01          0.0  0.000000e+00   \n",
       "3SsnPorch      2930.0  2.592491e+00  2.514133e+01          0.0  0.000000e+00   \n",
       "ScreenPorch    2930.0  1.600205e+01  5.608737e+01          0.0  0.000000e+00   \n",
       "PoolArea       2930.0  2.243345e+00  3.559718e+01          0.0  0.000000e+00   \n",
       "PoolQC         2930.0  1.228669e-02  1.969013e-01          0.0  0.000000e+00   \n",
       "Fence          2930.0  2.737201e-01  5.965865e-01          0.0  0.000000e+00   \n",
       "MiscVal        2930.0  5.063515e+01  5.663443e+02          0.0  0.000000e+00   \n",
       "YrSold         2930.0  2.007790e+03  1.316613e+00       2006.0  2.007000e+03   \n",
       "SalePrice      2930.0  1.270288e+05  1.063703e+05          0.0  0.000000e+00   \n",
       "\n",
       "                       50%           75%           max  \n",
       "Id                  1465.5  2.197750e+03  2.930000e+03  \n",
       "PID            535453620.0  9.071811e+08  1.007100e+09  \n",
       "LotFrontage           63.0  7.800000e+01  3.130000e+02  \n",
       "LotArea             9436.5  1.155525e+04  2.152450e+05  \n",
       "Street                 2.0  2.000000e+00  2.000000e+00  \n",
       "Alley                  0.0  0.000000e+00  2.000000e+00  \n",
       "LotShape               4.0  4.000000e+00  4.000000e+00  \n",
       "Utilities              4.0  4.000000e+00  4.000000e+00  \n",
       "LandSlope              3.0  3.000000e+00  3.000000e+00  \n",
       "OverallQual            6.0  7.000000e+00  1.000000e+01  \n",
       "OverallCond            5.0  6.000000e+00  9.000000e+00  \n",
       "YearBuilt           1973.0  2.001000e+03  2.010000e+03  \n",
       "YearRemod/Add       1993.0  2.004000e+03  2.010000e+03  \n",
       "MasVnrArea             0.0  1.627500e+02  1.600000e+03  \n",
       "ExterQual              3.0  4.000000e+00  5.000000e+00  \n",
       "ExterCond              3.0  3.000000e+00  5.000000e+00  \n",
       "BsmtQual               4.0  4.000000e+00  5.000000e+00  \n",
       "BsmtCond               3.0  3.000000e+00  5.000000e+00  \n",
       "BsmtExposure           0.0  1.000000e+00  3.000000e+00  \n",
       "BsmtFinType1           4.0  6.000000e+00  6.000000e+00  \n",
       "BsmtFinSF1           370.0  7.340000e+02  5.644000e+03  \n",
       "BsmtFinType2           1.0  1.000000e+00  6.000000e+00  \n",
       "BsmtFinSF2             0.0  0.000000e+00  1.526000e+03  \n",
       "BsmtUnfSF            465.5  8.017500e+02  2.336000e+03  \n",
       "TotalBsmtSF          990.0  1.301500e+03  6.110000e+03  \n",
       "HeatingQC              5.0  5.000000e+00  5.000000e+00  \n",
       "CentralAir             1.0  1.000000e+00  1.000000e+00  \n",
       "Electrical             4.0  4.000000e+00  4.000000e+00  \n",
       "1stFlrSF            1084.0  1.384000e+03  5.095000e+03  \n",
       "2ndFlrSF               0.0  7.037500e+02  2.065000e+03  \n",
       "...                    ...           ...           ...  \n",
       "GrLivArea           1442.0  1.742750e+03  5.642000e+03  \n",
       "BsmtFullBath           0.0  1.000000e+00  3.000000e+00  \n",
       "BsmtHalfBath           0.0  0.000000e+00  2.000000e+00  \n",
       "FullBath               2.0  2.000000e+00  4.000000e+00  \n",
       "HalfBath               0.0  1.000000e+00  2.000000e+00  \n",
       "BedroomAbvGr           3.0  3.000000e+00  8.000000e+00  \n",
       "KitchenAbvGr           1.0  1.000000e+00  3.000000e+00  \n",
       "KitchenQual            3.0  4.000000e+00  5.000000e+00  \n",
       "TotRmsAbvGrd           6.0  7.000000e+00  1.500000e+01  \n",
       "Functional             8.0  8.000000e+00  8.000000e+00  \n",
       "Fireplaces             1.0  1.000000e+00  4.000000e+00  \n",
       "FireplaceQu            1.0  4.000000e+00  5.000000e+00  \n",
       "GarageYrBlt         1977.0  2.001000e+03  2.207000e+03  \n",
       "GarageFinish           2.0  2.000000e+00  3.000000e+00  \n",
       "GarageCars             2.0  2.000000e+00  5.000000e+00  \n",
       "GarageArea           480.0  5.760000e+02  1.488000e+03  \n",
       "GarageQual             3.0  3.000000e+00  5.000000e+00  \n",
       "GarageCond             3.0  3.000000e+00  5.000000e+00  \n",
       "PavedDrive             2.0  2.000000e+00  2.000000e+00  \n",
       "WoodDeckSF             0.0  1.680000e+02  1.424000e+03  \n",
       "OpenPorchSF           27.0  7.000000e+01  7.420000e+02  \n",
       "EnclosedPorch          0.0  0.000000e+00  1.012000e+03  \n",
       "3SsnPorch              0.0  0.000000e+00  5.080000e+02  \n",
       "ScreenPorch            0.0  0.000000e+00  5.760000e+02  \n",
       "PoolArea               0.0  0.000000e+00  8.000000e+02  \n",
       "PoolQC                 0.0  0.000000e+00  4.000000e+00  \n",
       "Fence                  0.0  0.000000e+00  2.000000e+00  \n",
       "MiscVal                0.0  0.000000e+00  1.700000e+04  \n",
       "YrSold              2008.0  2.009000e+03  2.010000e+03  \n",
       "SalePrice         134500.0  1.866000e+05  6.116570e+05  \n",
       "\n",
       "[61 rows x 8 columns]"
      ]
     },
     "execution_count": 21,
     "metadata": {},
     "output_type": "execute_result"
    }
   ],
   "source": [
    "df.describe().T"
   ]
  },
  {
   "cell_type": "markdown",
   "metadata": {},
   "source": [
    "## Splitting train and test data sets"
   ]
  },
  {
   "cell_type": "code",
   "execution_count": 22,
   "metadata": {},
   "outputs": [
    {
     "data": {
      "text/plain": [
       "(2051, 81)"
      ]
     },
     "execution_count": 22,
     "metadata": {},
     "output_type": "execute_result"
    }
   ],
   "source": [
    "train = df.iloc[:ntrain]\n",
    "test = df.iloc[ntrain:]\n",
    "train.shape"
   ]
  },
  {
   "cell_type": "markdown",
   "metadata": {},
   "source": [
    "## EDA through Visualization "
   ]
  },
  {
   "cell_type": "code",
   "execution_count": 23,
   "metadata": {},
   "outputs": [
    {
     "data": {
      "image/png": "[encoded data removed]",
      "text/plain": [
       "<Figure size 720x1440 with 2 Axes>"
      ]
     },
     "metadata": {
      "needs_background": "light"
     },
     "output_type": "display_data"
    }
   ],
   "source": [
    "plt.figure(figsize=(10,20))\n",
    "sns.heatmap(train.corr()[['SalePrice']].sort_values('SalePrice', ascending=False), annot=True);"
   ]
  },
  {
   "cell_type": "code",
   "execution_count": 24,
   "metadata": {},
   "outputs": [],
   "source": [
    "most_correlated = train.corr()['SalePrice'].sort_values(ascending=False)[1:11]\n",
    "most_correlated = most_correlated.index.tolist()"
   ]
  },
  {
   "cell_type": "code",
   "execution_count": 25,
   "metadata": {},
   "outputs": [
    {
     "data": {
      "image/png": "[encoded data removed]",
      "text/plain": [
       "<Figure size 900x180 with 5 Axes>"
      ]
     },
     "metadata": {
      "needs_background": "light"
     },
     "output_type": "display_data"
    }
   ],
   "source": [
    "sns.pairplot(train, y_vars=['SalePrice'], x_vars=most_correlated[0:5]);"
   ]
  },
  {
   "cell_type": "code",
   "execution_count": 26,
   "metadata": {},
   "outputs": [
    {
     "data": {
      "image/png": "[encoded data removed]",
      "text/plain": [
       "<Figure size 900x180 with 5 Axes>"
      ]
     },
     "metadata": {
      "needs_background": "light"
     },
     "output_type": "display_data"
    }
   ],
   "source": [
    "sns.pairplot(train, y_vars=['SalePrice'], x_vars=most_correlated[5:10]);"
   ]
  },
  {
   "cell_type": "markdown",
   "metadata": {},
   "source": [
    "## Feature Engineering"
   ]
  },
  {
   "cell_type": "code",
   "execution_count": 27,
   "metadata": {},
   "outputs": [
    {
     "data": {
      "text/plain": [
       "Index(['Id', 'PID', 'LotFrontage', 'LotArea', 'Street', 'Alley', 'LotShape',\n",
       "       'Utilities', 'LandSlope', 'OverallQual', 'OverallCond', 'YearBuilt',\n",
       "       'YearRemod/Add', 'MasVnrArea', 'ExterQual', 'ExterCond', 'BsmtQual',\n",
       "       'BsmtCond', 'BsmtExposure', 'BsmtFinType1', 'BsmtFinSF1',\n",
       "       'BsmtFinType2', 'BsmtFinSF2', 'BsmtUnfSF', 'TotalBsmtSF', 'HeatingQC',\n",
       "       'CentralAir', 'Electrical', '1stFlrSF', '2ndFlrSF', 'LowQualFinSF',\n",
       "       'GrLivArea', 'BsmtFullBath', 'BsmtHalfBath', 'FullBath', 'HalfBath',\n",
       "       'BedroomAbvGr', 'KitchenAbvGr', 'KitchenQual', 'TotRmsAbvGrd',\n",
       "       'Functional', 'Fireplaces', 'FireplaceQu', 'GarageYrBlt',\n",
       "       'GarageFinish', 'GarageCars', 'GarageArea', 'GarageQual', 'GarageCond',\n",
       "       'PavedDrive', 'WoodDeckSF', 'OpenPorchSF', 'EnclosedPorch', '3SsnPorch',\n",
       "       'ScreenPorch', 'PoolArea', 'PoolQC', 'Fence', 'MiscVal', 'YrSold',\n",
       "       'SalePrice'],\n",
       "      dtype='object')"
      ]
     },
     "execution_count": 27,
     "metadata": {},
     "output_type": "execute_result"
    }
   ],
   "source": [
    "numerical_columns = df._get_numeric_data().columns\n",
    "numerical_columns"
   ]
  },
  {
   "cell_type": "code",
   "execution_count": 28,
   "metadata": {},
   "outputs": [],
   "source": [
    "excluded_numerical_columns = ['Id', 'PID', 'YrSold']"
   ]
  },
  {
   "cell_type": "code",
   "execution_count": 29,
   "metadata": {},
   "outputs": [
    {
     "data": {
      "text/plain": [
       "{'BldgType',\n",
       " 'Condition1',\n",
       " 'Condition2',\n",
       " 'Exterior1st',\n",
       " 'Exterior2nd',\n",
       " 'Foundation',\n",
       " 'GarageType',\n",
       " 'Heating',\n",
       " 'HouseStyle',\n",
       " 'LandContour',\n",
       " 'LotConfig',\n",
       " 'MSSubClass',\n",
       " 'MSZoning',\n",
       " 'MasVnrType',\n",
       " 'MiscFeature',\n",
       " 'MoSold',\n",
       " 'Neighborhood',\n",
       " 'RoofMatl',\n",
       " 'RoofStyle',\n",
       " 'SaleType'}"
      ]
     },
     "execution_count": 29,
     "metadata": {},
     "output_type": "execute_result"
    }
   ],
   "source": [
    "categorical_columns = set(df.columns) - set(numerical_columns)\n",
    "categorical_columns"
   ]
  },
  {
   "cell_type": "code",
   "execution_count": 30,
   "metadata": {},
   "outputs": [],
   "source": [
    "excluded_categorical_columns = ['MoSold', 'SaleType']"
   ]
  },
  {
   "cell_type": "code",
   "execution_count": 31,
   "metadata": {},
   "outputs": [
    {
     "data": {
      "text/plain": [
       "['Heating',\n",
       " 'LandContour',\n",
       " 'BldgType',\n",
       " 'Exterior2nd',\n",
       " 'Condition2',\n",
       " 'MiscFeature',\n",
       " 'LotConfig',\n",
       " 'Condition1',\n",
       " 'HouseStyle',\n",
       " 'MasVnrType',\n",
       " 'GarageType',\n",
       " 'MSSubClass',\n",
       " 'Foundation',\n",
       " 'RoofStyle',\n",
       " 'MSZoning',\n",
       " 'Neighborhood',\n",
       " 'Exterior1st',\n",
       " 'RoofMatl']"
      ]
     },
     "execution_count": 31,
     "metadata": {},
     "output_type": "execute_result"
    }
   ],
   "source": [
    "included_categorical_columns = list(set(categorical_columns) - set(excluded_categorical_columns))\n",
    "included_categorical_columns"
   ]
  },
  {
   "cell_type": "code",
   "execution_count": 32,
   "metadata": {},
   "outputs": [
    {
     "data": {
      "text/html": [
       "<div>\n",
       "<style scoped>\n",
       "    .dataframe tbody tr th:only-of-type {\n",
       "        vertical-align: middle;\n",
       "    }\n",
       "\n",
       "    .dataframe tbody tr th {\n",
       "        vertical-align: top;\n",
       "    }\n",
       "\n",
       "    .dataframe thead th {\n",
       "        text-align: right;\n",
       "    }\n",
       "</style>\n",
       "<table border=\"1\" class=\"dataframe\">\n",
       "  <thead>\n",
       "    <tr style=\"text-align: right;\">\n",
       "      <th></th>\n",
       "      <th>Id</th>\n",
       "      <th>PID</th>\n",
       "      <th>LotFrontage</th>\n",
       "      <th>LotArea</th>\n",
       "      <th>Street</th>\n",
       "      <th>Alley</th>\n",
       "      <th>LotShape</th>\n",
       "      <th>Utilities</th>\n",
       "      <th>LandSlope</th>\n",
       "      <th>OverallQual</th>\n",
       "      <th>...</th>\n",
       "      <th>Exterior1st_VinylSd</th>\n",
       "      <th>Exterior1st_Wd Sdng</th>\n",
       "      <th>Exterior1st_WdShing</th>\n",
       "      <th>RoofMatl_CompShg</th>\n",
       "      <th>RoofMatl_Membran</th>\n",
       "      <th>RoofMatl_Metal</th>\n",
       "      <th>RoofMatl_Roll</th>\n",
       "      <th>RoofMatl_Tar&amp;Grv</th>\n",
       "      <th>RoofMatl_WdShake</th>\n",
       "      <th>RoofMatl_WdShngl</th>\n",
       "    </tr>\n",
       "  </thead>\n",
       "  <tbody>\n",
       "    <tr>\n",
       "      <th>0</th>\n",
       "      <td>109</td>\n",
       "      <td>533352170</td>\n",
       "      <td>0.0</td>\n",
       "      <td>13517</td>\n",
       "      <td>2</td>\n",
       "      <td>0</td>\n",
       "      <td>3</td>\n",
       "      <td>4</td>\n",
       "      <td>3</td>\n",
       "      <td>6</td>\n",
       "      <td>...</td>\n",
       "      <td>0</td>\n",
       "      <td>0</td>\n",
       "      <td>0</td>\n",
       "      <td>1</td>\n",
       "      <td>0</td>\n",
       "      <td>0</td>\n",
       "      <td>0</td>\n",
       "      <td>0</td>\n",
       "      <td>0</td>\n",
       "      <td>0</td>\n",
       "    </tr>\n",
       "    <tr>\n",
       "      <th>1</th>\n",
       "      <td>544</td>\n",
       "      <td>531379050</td>\n",
       "      <td>43.0</td>\n",
       "      <td>11492</td>\n",
       "      <td>2</td>\n",
       "      <td>0</td>\n",
       "      <td>3</td>\n",
       "      <td>4</td>\n",
       "      <td>3</td>\n",
       "      <td>7</td>\n",
       "      <td>...</td>\n",
       "      <td>1</td>\n",
       "      <td>0</td>\n",
       "      <td>0</td>\n",
       "      <td>1</td>\n",
       "      <td>0</td>\n",
       "      <td>0</td>\n",
       "      <td>0</td>\n",
       "      <td>0</td>\n",
       "      <td>0</td>\n",
       "      <td>0</td>\n",
       "    </tr>\n",
       "    <tr>\n",
       "      <th>2</th>\n",
       "      <td>153</td>\n",
       "      <td>535304180</td>\n",
       "      <td>68.0</td>\n",
       "      <td>7922</td>\n",
       "      <td>2</td>\n",
       "      <td>0</td>\n",
       "      <td>4</td>\n",
       "      <td>4</td>\n",
       "      <td>3</td>\n",
       "      <td>5</td>\n",
       "      <td>...</td>\n",
       "      <td>1</td>\n",
       "      <td>0</td>\n",
       "      <td>0</td>\n",
       "      <td>1</td>\n",
       "      <td>0</td>\n",
       "      <td>0</td>\n",
       "      <td>0</td>\n",
       "      <td>0</td>\n",
       "      <td>0</td>\n",
       "      <td>0</td>\n",
       "    </tr>\n",
       "    <tr>\n",
       "      <th>3</th>\n",
       "      <td>318</td>\n",
       "      <td>916386060</td>\n",
       "      <td>73.0</td>\n",
       "      <td>9802</td>\n",
       "      <td>2</td>\n",
       "      <td>0</td>\n",
       "      <td>4</td>\n",
       "      <td>4</td>\n",
       "      <td>3</td>\n",
       "      <td>5</td>\n",
       "      <td>...</td>\n",
       "      <td>1</td>\n",
       "      <td>0</td>\n",
       "      <td>0</td>\n",
       "      <td>1</td>\n",
       "      <td>0</td>\n",
       "      <td>0</td>\n",
       "      <td>0</td>\n",
       "      <td>0</td>\n",
       "      <td>0</td>\n",
       "      <td>0</td>\n",
       "    </tr>\n",
       "    <tr>\n",
       "      <th>4</th>\n",
       "      <td>255</td>\n",
       "      <td>906425045</td>\n",
       "      <td>82.0</td>\n",
       "      <td>14235</td>\n",
       "      <td>2</td>\n",
       "      <td>0</td>\n",
       "      <td>3</td>\n",
       "      <td>4</td>\n",
       "      <td>3</td>\n",
       "      <td>6</td>\n",
       "      <td>...</td>\n",
       "      <td>0</td>\n",
       "      <td>1</td>\n",
       "      <td>0</td>\n",
       "      <td>1</td>\n",
       "      <td>0</td>\n",
       "      <td>0</td>\n",
       "      <td>0</td>\n",
       "      <td>0</td>\n",
       "      <td>0</td>\n",
       "      <td>0</td>\n",
       "    </tr>\n",
       "  </tbody>\n",
       "</table>\n",
       "<p>5 rows × 213 columns</p>\n",
       "</div>"
      ],
      "text/plain": [
       "    Id        PID  LotFrontage  LotArea  Street  Alley  LotShape  Utilities  \\\n",
       "0  109  533352170          0.0    13517       2      0         3          4   \n",
       "1  544  531379050         43.0    11492       2      0         3          4   \n",
       "2  153  535304180         68.0     7922       2      0         4          4   \n",
       "3  318  916386060         73.0     9802       2      0         4          4   \n",
       "4  255  906425045         82.0    14235       2      0         3          4   \n",
       "\n",
       "   LandSlope  OverallQual        ...         Exterior1st_VinylSd  \\\n",
       "0          3            6        ...                           0   \n",
       "1          3            7        ...                           1   \n",
       "2          3            5        ...                           1   \n",
       "3          3            5        ...                           1   \n",
       "4          3            6        ...                           0   \n",
       "\n",
       "   Exterior1st_Wd Sdng  Exterior1st_WdShing  RoofMatl_CompShg  \\\n",
       "0                    0                    0                 1   \n",
       "1                    0                    0                 1   \n",
       "2                    0                    0                 1   \n",
       "3                    0                    0                 1   \n",
       "4                    1                    0                 1   \n",
       "\n",
       "   RoofMatl_Membran  RoofMatl_Metal  RoofMatl_Roll  RoofMatl_Tar&Grv  \\\n",
       "0                 0               0              0                 0   \n",
       "1                 0               0              0                 0   \n",
       "2                 0               0              0                 0   \n",
       "3                 0               0              0                 0   \n",
       "4                 0               0              0                 0   \n",
       "\n",
       "   RoofMatl_WdShake  RoofMatl_WdShngl  \n",
       "0                 0                 0  \n",
       "1                 0                 0  \n",
       "2                 0                 0  \n",
       "3                 0                 0  \n",
       "4                 0                 0  \n",
       "\n",
       "[5 rows x 213 columns]"
      ]
     },
     "execution_count": 32,
     "metadata": {},
     "output_type": "execute_result"
    }
   ],
   "source": [
    "df = pd.get_dummies(df, columns=included_categorical_columns, drop_first=True)\n",
    "df.head()"
   ]
  },
  {
   "cell_type": "code",
   "execution_count": 33,
   "metadata": {},
   "outputs": [
    {
     "data": {
      "text/plain": [
       "array([[6.000000e+00, 4.000000e+00, 1.479000e+03, ..., 9.000000e+00,\n",
       "        5.928000e+03, 3.904576e+06],\n",
       "       [7.000000e+00, 4.000000e+00, 2.122000e+03, ..., 1.600000e+01,\n",
       "        7.984000e+03, 3.984016e+06],\n",
       "       [5.000000e+00, 3.000000e+00, 1.057000e+03, ..., 9.000000e+00,\n",
       "        5.859000e+03, 3.814209e+06],\n",
       "       ...,\n",
       "       [5.000000e+00, 3.000000e+00, 1.211000e+03, ..., 9.000000e+00,\n",
       "        5.904000e+03, 3.873024e+06],\n",
       "       [4.000000e+00, 3.000000e+00, 8.640000e+02, ..., 9.000000e+00,\n",
       "        5.913000e+03, 3.884841e+06],\n",
       "       [5.000000e+00, 3.000000e+00, 9.250000e+02, ..., 9.000000e+00,\n",
       "        5.865000e+03, 3.822025e+06]])"
      ]
     },
     "execution_count": 33,
     "metadata": {},
     "output_type": "execute_result"
    }
   ],
   "source": [
    "poly = PolynomialFeatures(include_bias=False)\n",
    "X_poly = poly.fit_transform(df[most_correlated])\n",
    "X_poly"
   ]
  },
  {
   "cell_type": "code",
   "execution_count": 34,
   "metadata": {},
   "outputs": [
    {
     "data": {
      "text/plain": [
       "(2930, 65)"
      ]
     },
     "execution_count": 34,
     "metadata": {},
     "output_type": "execute_result"
    }
   ],
   "source": [
    "X_poly.shape"
   ]
  },
  {
   "cell_type": "code",
   "execution_count": 35,
   "metadata": {},
   "outputs": [
    {
     "data": {
      "text/html": [
       "<div>\n",
       "<style scoped>\n",
       "    .dataframe tbody tr th:only-of-type {\n",
       "        vertical-align: middle;\n",
       "    }\n",
       "\n",
       "    .dataframe tbody tr th {\n",
       "        vertical-align: top;\n",
       "    }\n",
       "\n",
       "    .dataframe thead th {\n",
       "        text-align: right;\n",
       "    }\n",
       "</style>\n",
       "<table border=\"1\" class=\"dataframe\">\n",
       "  <thead>\n",
       "    <tr style=\"text-align: right;\">\n",
       "      <th></th>\n",
       "      <th>OverallQual</th>\n",
       "      <th>ExterQual</th>\n",
       "      <th>GrLivArea</th>\n",
       "      <th>KitchenQual</th>\n",
       "      <th>GarageArea</th>\n",
       "      <th>GarageCars</th>\n",
       "      <th>TotalBsmtSF</th>\n",
       "      <th>1stFlrSF</th>\n",
       "      <th>BsmtQual</th>\n",
       "      <th>YearBuilt</th>\n",
       "      <th>...</th>\n",
       "      <th>TotalBsmtSF^2</th>\n",
       "      <th>TotalBsmtSF 1stFlrSF</th>\n",
       "      <th>TotalBsmtSF BsmtQual</th>\n",
       "      <th>TotalBsmtSF YearBuilt</th>\n",
       "      <th>1stFlrSF^2</th>\n",
       "      <th>1stFlrSF BsmtQual</th>\n",
       "      <th>1stFlrSF YearBuilt</th>\n",
       "      <th>BsmtQual^2</th>\n",
       "      <th>BsmtQual YearBuilt</th>\n",
       "      <th>YearBuilt^2</th>\n",
       "    </tr>\n",
       "  </thead>\n",
       "  <tbody>\n",
       "    <tr>\n",
       "      <th>0</th>\n",
       "      <td>6.0</td>\n",
       "      <td>4.0</td>\n",
       "      <td>1479.0</td>\n",
       "      <td>4.0</td>\n",
       "      <td>475.0</td>\n",
       "      <td>2.0</td>\n",
       "      <td>725.0</td>\n",
       "      <td>725.0</td>\n",
       "      <td>3.0</td>\n",
       "      <td>1976.0</td>\n",
       "      <td>...</td>\n",
       "      <td>525625.0</td>\n",
       "      <td>525625.0</td>\n",
       "      <td>2175.0</td>\n",
       "      <td>1432600.0</td>\n",
       "      <td>525625.0</td>\n",
       "      <td>2175.0</td>\n",
       "      <td>1432600.0</td>\n",
       "      <td>9.0</td>\n",
       "      <td>5928.0</td>\n",
       "      <td>3904576.0</td>\n",
       "    </tr>\n",
       "    <tr>\n",
       "      <th>1</th>\n",
       "      <td>7.0</td>\n",
       "      <td>4.0</td>\n",
       "      <td>2122.0</td>\n",
       "      <td>4.0</td>\n",
       "      <td>559.0</td>\n",
       "      <td>2.0</td>\n",
       "      <td>913.0</td>\n",
       "      <td>913.0</td>\n",
       "      <td>4.0</td>\n",
       "      <td>1996.0</td>\n",
       "      <td>...</td>\n",
       "      <td>833569.0</td>\n",
       "      <td>833569.0</td>\n",
       "      <td>3652.0</td>\n",
       "      <td>1822348.0</td>\n",
       "      <td>833569.0</td>\n",
       "      <td>3652.0</td>\n",
       "      <td>1822348.0</td>\n",
       "      <td>16.0</td>\n",
       "      <td>7984.0</td>\n",
       "      <td>3984016.0</td>\n",
       "    </tr>\n",
       "    <tr>\n",
       "      <th>2</th>\n",
       "      <td>5.0</td>\n",
       "      <td>3.0</td>\n",
       "      <td>1057.0</td>\n",
       "      <td>4.0</td>\n",
       "      <td>246.0</td>\n",
       "      <td>1.0</td>\n",
       "      <td>1057.0</td>\n",
       "      <td>1057.0</td>\n",
       "      <td>3.0</td>\n",
       "      <td>1953.0</td>\n",
       "      <td>...</td>\n",
       "      <td>1117249.0</td>\n",
       "      <td>1117249.0</td>\n",
       "      <td>3171.0</td>\n",
       "      <td>2064321.0</td>\n",
       "      <td>1117249.0</td>\n",
       "      <td>3171.0</td>\n",
       "      <td>2064321.0</td>\n",
       "      <td>9.0</td>\n",
       "      <td>5859.0</td>\n",
       "      <td>3814209.0</td>\n",
       "    </tr>\n",
       "    <tr>\n",
       "      <th>3</th>\n",
       "      <td>5.0</td>\n",
       "      <td>3.0</td>\n",
       "      <td>1444.0</td>\n",
       "      <td>3.0</td>\n",
       "      <td>400.0</td>\n",
       "      <td>2.0</td>\n",
       "      <td>384.0</td>\n",
       "      <td>744.0</td>\n",
       "      <td>4.0</td>\n",
       "      <td>2006.0</td>\n",
       "      <td>...</td>\n",
       "      <td>147456.0</td>\n",
       "      <td>285696.0</td>\n",
       "      <td>1536.0</td>\n",
       "      <td>770304.0</td>\n",
       "      <td>553536.0</td>\n",
       "      <td>2976.0</td>\n",
       "      <td>1492464.0</td>\n",
       "      <td>16.0</td>\n",
       "      <td>8024.0</td>\n",
       "      <td>4024036.0</td>\n",
       "    </tr>\n",
       "    <tr>\n",
       "      <th>4</th>\n",
       "      <td>6.0</td>\n",
       "      <td>3.0</td>\n",
       "      <td>1445.0</td>\n",
       "      <td>3.0</td>\n",
       "      <td>484.0</td>\n",
       "      <td>2.0</td>\n",
       "      <td>676.0</td>\n",
       "      <td>831.0</td>\n",
       "      <td>2.0</td>\n",
       "      <td>1900.0</td>\n",
       "      <td>...</td>\n",
       "      <td>456976.0</td>\n",
       "      <td>561756.0</td>\n",
       "      <td>1352.0</td>\n",
       "      <td>1284400.0</td>\n",
       "      <td>690561.0</td>\n",
       "      <td>1662.0</td>\n",
       "      <td>1578900.0</td>\n",
       "      <td>4.0</td>\n",
       "      <td>3800.0</td>\n",
       "      <td>3610000.0</td>\n",
       "    </tr>\n",
       "  </tbody>\n",
       "</table>\n",
       "<p>5 rows × 65 columns</p>\n",
       "</div>"
      ],
      "text/plain": [
       "   OverallQual  ExterQual  GrLivArea  KitchenQual  GarageArea  GarageCars  \\\n",
       "0          6.0        4.0     1479.0          4.0       475.0         2.0   \n",
       "1          7.0        4.0     2122.0          4.0       559.0         2.0   \n",
       "2          5.0        3.0     1057.0          4.0       246.0         1.0   \n",
       "3          5.0        3.0     1444.0          3.0       400.0         2.0   \n",
       "4          6.0        3.0     1445.0          3.0       484.0         2.0   \n",
       "\n",
       "   TotalBsmtSF  1stFlrSF  BsmtQual  YearBuilt     ...       TotalBsmtSF^2  \\\n",
       "0        725.0     725.0       3.0     1976.0     ...            525625.0   \n",
       "1        913.0     913.0       4.0     1996.0     ...            833569.0   \n",
       "2       1057.0    1057.0       3.0     1953.0     ...           1117249.0   \n",
       "3        384.0     744.0       4.0     2006.0     ...            147456.0   \n",
       "4        676.0     831.0       2.0     1900.0     ...            456976.0   \n",
       "\n",
       "   TotalBsmtSF 1stFlrSF  TotalBsmtSF BsmtQual  TotalBsmtSF YearBuilt  \\\n",
       "0              525625.0                2175.0              1432600.0   \n",
       "1              833569.0                3652.0              1822348.0   \n",
       "2             1117249.0                3171.0              2064321.0   \n",
       "3              285696.0                1536.0               770304.0   \n",
       "4              561756.0                1352.0              1284400.0   \n",
       "\n",
       "   1stFlrSF^2  1stFlrSF BsmtQual  1stFlrSF YearBuilt  BsmtQual^2  \\\n",
       "0    525625.0             2175.0           1432600.0         9.0   \n",
       "1    833569.0             3652.0           1822348.0        16.0   \n",
       "2   1117249.0             3171.0           2064321.0         9.0   \n",
       "3    553536.0             2976.0           1492464.0        16.0   \n",
       "4    690561.0             1662.0           1578900.0         4.0   \n",
       "\n",
       "   BsmtQual YearBuilt  YearBuilt^2  \n",
       "0              5928.0    3904576.0  \n",
       "1              7984.0    3984016.0  \n",
       "2              5859.0    3814209.0  \n",
       "3              8024.0    4024036.0  \n",
       "4              3800.0    3610000.0  \n",
       "\n",
       "[5 rows x 65 columns]"
      ]
     },
     "execution_count": 35,
     "metadata": {},
     "output_type": "execute_result"
    }
   ],
   "source": [
    "poly_col_names = poly.get_feature_names(most_correlated)\n",
    "df_poly = pd.DataFrame(X_poly, columns=poly_col_names)\n",
    "df_poly.head()"
   ]
  },
  {
   "cell_type": "code",
   "execution_count": 36,
   "metadata": {},
   "outputs": [
    {
     "data": {
      "text/html": [
       "<div>\n",
       "<style scoped>\n",
       "    .dataframe tbody tr th:only-of-type {\n",
       "        vertical-align: middle;\n",
       "    }\n",
       "\n",
       "    .dataframe tbody tr th {\n",
       "        vertical-align: top;\n",
       "    }\n",
       "\n",
       "    .dataframe thead th {\n",
       "        text-align: right;\n",
       "    }\n",
       "</style>\n",
       "<table border=\"1\" class=\"dataframe\">\n",
       "  <thead>\n",
       "    <tr style=\"text-align: right;\">\n",
       "      <th></th>\n",
       "      <th>OverallQual^2</th>\n",
       "      <th>OverallQual ExterQual</th>\n",
       "      <th>OverallQual GrLivArea</th>\n",
       "      <th>OverallQual KitchenQual</th>\n",
       "      <th>OverallQual GarageArea</th>\n",
       "      <th>OverallQual GarageCars</th>\n",
       "      <th>OverallQual TotalBsmtSF</th>\n",
       "      <th>OverallQual 1stFlrSF</th>\n",
       "      <th>OverallQual BsmtQual</th>\n",
       "      <th>OverallQual YearBuilt</th>\n",
       "      <th>...</th>\n",
       "      <th>TotalBsmtSF^2</th>\n",
       "      <th>TotalBsmtSF 1stFlrSF</th>\n",
       "      <th>TotalBsmtSF BsmtQual</th>\n",
       "      <th>TotalBsmtSF YearBuilt</th>\n",
       "      <th>1stFlrSF^2</th>\n",
       "      <th>1stFlrSF BsmtQual</th>\n",
       "      <th>1stFlrSF YearBuilt</th>\n",
       "      <th>BsmtQual^2</th>\n",
       "      <th>BsmtQual YearBuilt</th>\n",
       "      <th>YearBuilt^2</th>\n",
       "    </tr>\n",
       "  </thead>\n",
       "  <tbody>\n",
       "    <tr>\n",
       "      <th>0</th>\n",
       "      <td>36.0</td>\n",
       "      <td>24.0</td>\n",
       "      <td>8874.0</td>\n",
       "      <td>24.0</td>\n",
       "      <td>2850.0</td>\n",
       "      <td>12.0</td>\n",
       "      <td>4350.0</td>\n",
       "      <td>4350.0</td>\n",
       "      <td>18.0</td>\n",
       "      <td>11856.0</td>\n",
       "      <td>...</td>\n",
       "      <td>525625.0</td>\n",
       "      <td>525625.0</td>\n",
       "      <td>2175.0</td>\n",
       "      <td>1432600.0</td>\n",
       "      <td>525625.0</td>\n",
       "      <td>2175.0</td>\n",
       "      <td>1432600.0</td>\n",
       "      <td>9.0</td>\n",
       "      <td>5928.0</td>\n",
       "      <td>3904576.0</td>\n",
       "    </tr>\n",
       "    <tr>\n",
       "      <th>1</th>\n",
       "      <td>49.0</td>\n",
       "      <td>28.0</td>\n",
       "      <td>14854.0</td>\n",
       "      <td>28.0</td>\n",
       "      <td>3913.0</td>\n",
       "      <td>14.0</td>\n",
       "      <td>6391.0</td>\n",
       "      <td>6391.0</td>\n",
       "      <td>28.0</td>\n",
       "      <td>13972.0</td>\n",
       "      <td>...</td>\n",
       "      <td>833569.0</td>\n",
       "      <td>833569.0</td>\n",
       "      <td>3652.0</td>\n",
       "      <td>1822348.0</td>\n",
       "      <td>833569.0</td>\n",
       "      <td>3652.0</td>\n",
       "      <td>1822348.0</td>\n",
       "      <td>16.0</td>\n",
       "      <td>7984.0</td>\n",
       "      <td>3984016.0</td>\n",
       "    </tr>\n",
       "    <tr>\n",
       "      <th>2</th>\n",
       "      <td>25.0</td>\n",
       "      <td>15.0</td>\n",
       "      <td>5285.0</td>\n",
       "      <td>20.0</td>\n",
       "      <td>1230.0</td>\n",
       "      <td>5.0</td>\n",
       "      <td>5285.0</td>\n",
       "      <td>5285.0</td>\n",
       "      <td>15.0</td>\n",
       "      <td>9765.0</td>\n",
       "      <td>...</td>\n",
       "      <td>1117249.0</td>\n",
       "      <td>1117249.0</td>\n",
       "      <td>3171.0</td>\n",
       "      <td>2064321.0</td>\n",
       "      <td>1117249.0</td>\n",
       "      <td>3171.0</td>\n",
       "      <td>2064321.0</td>\n",
       "      <td>9.0</td>\n",
       "      <td>5859.0</td>\n",
       "      <td>3814209.0</td>\n",
       "    </tr>\n",
       "    <tr>\n",
       "      <th>3</th>\n",
       "      <td>25.0</td>\n",
       "      <td>15.0</td>\n",
       "      <td>7220.0</td>\n",
       "      <td>15.0</td>\n",
       "      <td>2000.0</td>\n",
       "      <td>10.0</td>\n",
       "      <td>1920.0</td>\n",
       "      <td>3720.0</td>\n",
       "      <td>20.0</td>\n",
       "      <td>10030.0</td>\n",
       "      <td>...</td>\n",
       "      <td>147456.0</td>\n",
       "      <td>285696.0</td>\n",
       "      <td>1536.0</td>\n",
       "      <td>770304.0</td>\n",
       "      <td>553536.0</td>\n",
       "      <td>2976.0</td>\n",
       "      <td>1492464.0</td>\n",
       "      <td>16.0</td>\n",
       "      <td>8024.0</td>\n",
       "      <td>4024036.0</td>\n",
       "    </tr>\n",
       "    <tr>\n",
       "      <th>4</th>\n",
       "      <td>36.0</td>\n",
       "      <td>18.0</td>\n",
       "      <td>8670.0</td>\n",
       "      <td>18.0</td>\n",
       "      <td>2904.0</td>\n",
       "      <td>12.0</td>\n",
       "      <td>4056.0</td>\n",
       "      <td>4986.0</td>\n",
       "      <td>12.0</td>\n",
       "      <td>11400.0</td>\n",
       "      <td>...</td>\n",
       "      <td>456976.0</td>\n",
       "      <td>561756.0</td>\n",
       "      <td>1352.0</td>\n",
       "      <td>1284400.0</td>\n",
       "      <td>690561.0</td>\n",
       "      <td>1662.0</td>\n",
       "      <td>1578900.0</td>\n",
       "      <td>4.0</td>\n",
       "      <td>3800.0</td>\n",
       "      <td>3610000.0</td>\n",
       "    </tr>\n",
       "  </tbody>\n",
       "</table>\n",
       "<p>5 rows × 55 columns</p>\n",
       "</div>"
      ],
      "text/plain": [
       "   OverallQual^2  OverallQual ExterQual  OverallQual GrLivArea  \\\n",
       "0           36.0                   24.0                 8874.0   \n",
       "1           49.0                   28.0                14854.0   \n",
       "2           25.0                   15.0                 5285.0   \n",
       "3           25.0                   15.0                 7220.0   \n",
       "4           36.0                   18.0                 8670.0   \n",
       "\n",
       "   OverallQual KitchenQual  OverallQual GarageArea  OverallQual GarageCars  \\\n",
       "0                     24.0                  2850.0                    12.0   \n",
       "1                     28.0                  3913.0                    14.0   \n",
       "2                     20.0                  1230.0                     5.0   \n",
       "3                     15.0                  2000.0                    10.0   \n",
       "4                     18.0                  2904.0                    12.0   \n",
       "\n",
       "   OverallQual TotalBsmtSF  OverallQual 1stFlrSF  OverallQual BsmtQual  \\\n",
       "0                   4350.0                4350.0                  18.0   \n",
       "1                   6391.0                6391.0                  28.0   \n",
       "2                   5285.0                5285.0                  15.0   \n",
       "3                   1920.0                3720.0                  20.0   \n",
       "4                   4056.0                4986.0                  12.0   \n",
       "\n",
       "   OverallQual YearBuilt     ...       TotalBsmtSF^2  TotalBsmtSF 1stFlrSF  \\\n",
       "0                11856.0     ...            525625.0              525625.0   \n",
       "1                13972.0     ...            833569.0              833569.0   \n",
       "2                 9765.0     ...           1117249.0             1117249.0   \n",
       "3                10030.0     ...            147456.0              285696.0   \n",
       "4                11400.0     ...            456976.0              561756.0   \n",
       "\n",
       "   TotalBsmtSF BsmtQual  TotalBsmtSF YearBuilt  1stFlrSF^2  1stFlrSF BsmtQual  \\\n",
       "0                2175.0              1432600.0    525625.0             2175.0   \n",
       "1                3652.0              1822348.0    833569.0             3652.0   \n",
       "2                3171.0              2064321.0   1117249.0             3171.0   \n",
       "3                1536.0               770304.0    553536.0             2976.0   \n",
       "4                1352.0              1284400.0    690561.0             1662.0   \n",
       "\n",
       "   1stFlrSF YearBuilt  BsmtQual^2  BsmtQual YearBuilt  YearBuilt^2  \n",
       "0           1432600.0         9.0              5928.0    3904576.0  \n",
       "1           1822348.0        16.0              7984.0    3984016.0  \n",
       "2           2064321.0         9.0              5859.0    3814209.0  \n",
       "3           1492464.0        16.0              8024.0    4024036.0  \n",
       "4           1578900.0         4.0              3800.0    3610000.0  \n",
       "\n",
       "[5 rows x 55 columns]"
      ]
     },
     "execution_count": 36,
     "metadata": {},
     "output_type": "execute_result"
    }
   ],
   "source": [
    "df_poly.drop(most_correlated, axis=1, inplace=True)\n",
    "df_poly.head()"
   ]
  },
  {
   "cell_type": "code",
   "execution_count": 37,
   "metadata": {},
   "outputs": [
    {
     "data": {
      "text/html": [
       "<div>\n",
       "<style scoped>\n",
       "    .dataframe tbody tr th:only-of-type {\n",
       "        vertical-align: middle;\n",
       "    }\n",
       "\n",
       "    .dataframe tbody tr th {\n",
       "        vertical-align: top;\n",
       "    }\n",
       "\n",
       "    .dataframe thead th {\n",
       "        text-align: right;\n",
       "    }\n",
       "</style>\n",
       "<table border=\"1\" class=\"dataframe\">\n",
       "  <thead>\n",
       "    <tr style=\"text-align: right;\">\n",
       "      <th></th>\n",
       "      <th>Id</th>\n",
       "      <th>PID</th>\n",
       "      <th>LotFrontage</th>\n",
       "      <th>LotArea</th>\n",
       "      <th>Street</th>\n",
       "      <th>Alley</th>\n",
       "      <th>LotShape</th>\n",
       "      <th>Utilities</th>\n",
       "      <th>LandSlope</th>\n",
       "      <th>OverallQual</th>\n",
       "      <th>...</th>\n",
       "      <th>TotalBsmtSF^2</th>\n",
       "      <th>TotalBsmtSF 1stFlrSF</th>\n",
       "      <th>TotalBsmtSF BsmtQual</th>\n",
       "      <th>TotalBsmtSF YearBuilt</th>\n",
       "      <th>1stFlrSF^2</th>\n",
       "      <th>1stFlrSF BsmtQual</th>\n",
       "      <th>1stFlrSF YearBuilt</th>\n",
       "      <th>BsmtQual^2</th>\n",
       "      <th>BsmtQual YearBuilt</th>\n",
       "      <th>YearBuilt^2</th>\n",
       "    </tr>\n",
       "  </thead>\n",
       "  <tbody>\n",
       "    <tr>\n",
       "      <th>0</th>\n",
       "      <td>109</td>\n",
       "      <td>533352170</td>\n",
       "      <td>0.0</td>\n",
       "      <td>13517</td>\n",
       "      <td>2</td>\n",
       "      <td>0</td>\n",
       "      <td>3</td>\n",
       "      <td>4</td>\n",
       "      <td>3</td>\n",
       "      <td>6</td>\n",
       "      <td>...</td>\n",
       "      <td>525625.0</td>\n",
       "      <td>525625.0</td>\n",
       "      <td>2175.0</td>\n",
       "      <td>1432600.0</td>\n",
       "      <td>525625.0</td>\n",
       "      <td>2175.0</td>\n",
       "      <td>1432600.0</td>\n",
       "      <td>9.0</td>\n",
       "      <td>5928.0</td>\n",
       "      <td>3904576.0</td>\n",
       "    </tr>\n",
       "    <tr>\n",
       "      <th>1</th>\n",
       "      <td>544</td>\n",
       "      <td>531379050</td>\n",
       "      <td>43.0</td>\n",
       "      <td>11492</td>\n",
       "      <td>2</td>\n",
       "      <td>0</td>\n",
       "      <td>3</td>\n",
       "      <td>4</td>\n",
       "      <td>3</td>\n",
       "      <td>7</td>\n",
       "      <td>...</td>\n",
       "      <td>833569.0</td>\n",
       "      <td>833569.0</td>\n",
       "      <td>3652.0</td>\n",
       "      <td>1822348.0</td>\n",
       "      <td>833569.0</td>\n",
       "      <td>3652.0</td>\n",
       "      <td>1822348.0</td>\n",
       "      <td>16.0</td>\n",
       "      <td>7984.0</td>\n",
       "      <td>3984016.0</td>\n",
       "    </tr>\n",
       "    <tr>\n",
       "      <th>2</th>\n",
       "      <td>153</td>\n",
       "      <td>535304180</td>\n",
       "      <td>68.0</td>\n",
       "      <td>7922</td>\n",
       "      <td>2</td>\n",
       "      <td>0</td>\n",
       "      <td>4</td>\n",
       "      <td>4</td>\n",
       "      <td>3</td>\n",
       "      <td>5</td>\n",
       "      <td>...</td>\n",
       "      <td>1117249.0</td>\n",
       "      <td>1117249.0</td>\n",
       "      <td>3171.0</td>\n",
       "      <td>2064321.0</td>\n",
       "      <td>1117249.0</td>\n",
       "      <td>3171.0</td>\n",
       "      <td>2064321.0</td>\n",
       "      <td>9.0</td>\n",
       "      <td>5859.0</td>\n",
       "      <td>3814209.0</td>\n",
       "    </tr>\n",
       "    <tr>\n",
       "      <th>3</th>\n",
       "      <td>318</td>\n",
       "      <td>916386060</td>\n",
       "      <td>73.0</td>\n",
       "      <td>9802</td>\n",
       "      <td>2</td>\n",
       "      <td>0</td>\n",
       "      <td>4</td>\n",
       "      <td>4</td>\n",
       "      <td>3</td>\n",
       "      <td>5</td>\n",
       "      <td>...</td>\n",
       "      <td>147456.0</td>\n",
       "      <td>285696.0</td>\n",
       "      <td>1536.0</td>\n",
       "      <td>770304.0</td>\n",
       "      <td>553536.0</td>\n",
       "      <td>2976.0</td>\n",
       "      <td>1492464.0</td>\n",
       "      <td>16.0</td>\n",
       "      <td>8024.0</td>\n",
       "      <td>4024036.0</td>\n",
       "    </tr>\n",
       "    <tr>\n",
       "      <th>4</th>\n",
       "      <td>255</td>\n",
       "      <td>906425045</td>\n",
       "      <td>82.0</td>\n",
       "      <td>14235</td>\n",
       "      <td>2</td>\n",
       "      <td>0</td>\n",
       "      <td>3</td>\n",
       "      <td>4</td>\n",
       "      <td>3</td>\n",
       "      <td>6</td>\n",
       "      <td>...</td>\n",
       "      <td>456976.0</td>\n",
       "      <td>561756.0</td>\n",
       "      <td>1352.0</td>\n",
       "      <td>1284400.0</td>\n",
       "      <td>690561.0</td>\n",
       "      <td>1662.0</td>\n",
       "      <td>1578900.0</td>\n",
       "      <td>4.0</td>\n",
       "      <td>3800.0</td>\n",
       "      <td>3610000.0</td>\n",
       "    </tr>\n",
       "  </tbody>\n",
       "</table>\n",
       "<p>5 rows × 268 columns</p>\n",
       "</div>"
      ],
      "text/plain": [
       "    Id        PID  LotFrontage  LotArea  Street  Alley  LotShape  Utilities  \\\n",
       "0  109  533352170          0.0    13517       2      0         3          4   \n",
       "1  544  531379050         43.0    11492       2      0         3          4   \n",
       "2  153  535304180         68.0     7922       2      0         4          4   \n",
       "3  318  916386060         73.0     9802       2      0         4          4   \n",
       "4  255  906425045         82.0    14235       2      0         3          4   \n",
       "\n",
       "   LandSlope  OverallQual     ...       TotalBsmtSF^2  TotalBsmtSF 1stFlrSF  \\\n",
       "0          3            6     ...            525625.0              525625.0   \n",
       "1          3            7     ...            833569.0              833569.0   \n",
       "2          3            5     ...           1117249.0             1117249.0   \n",
       "3          3            5     ...            147456.0              285696.0   \n",
       "4          3            6     ...            456976.0              561756.0   \n",
       "\n",
       "   TotalBsmtSF BsmtQual  TotalBsmtSF YearBuilt  1stFlrSF^2  1stFlrSF BsmtQual  \\\n",
       "0                2175.0              1432600.0    525625.0             2175.0   \n",
       "1                3652.0              1822348.0    833569.0             3652.0   \n",
       "2                3171.0              2064321.0   1117249.0             3171.0   \n",
       "3                1536.0               770304.0    553536.0             2976.0   \n",
       "4                1352.0              1284400.0    690561.0             1662.0   \n",
       "\n",
       "   1stFlrSF YearBuilt  BsmtQual^2  BsmtQual YearBuilt  YearBuilt^2  \n",
       "0           1432600.0         9.0              5928.0    3904576.0  \n",
       "1           1822348.0        16.0              7984.0    3984016.0  \n",
       "2           2064321.0         9.0              5859.0    3814209.0  \n",
       "3           1492464.0        16.0              8024.0    4024036.0  \n",
       "4           1578900.0         4.0              3800.0    3610000.0  \n",
       "\n",
       "[5 rows x 268 columns]"
      ]
     },
     "execution_count": 37,
     "metadata": {},
     "output_type": "execute_result"
    }
   ],
   "source": [
    "df_all = pd.concat([df, df_poly], axis=1)\n",
    "df_all.head()"
   ]
  },
  {
   "cell_type": "markdown",
   "metadata": {},
   "source": [
    "## Splitting train and test data sets"
   ]
  },
  {
   "cell_type": "code",
   "execution_count": 38,
   "metadata": {},
   "outputs": [
    {
     "data": {
      "text/plain": [
       "(2051, 268)"
      ]
     },
     "execution_count": 38,
     "metadata": {},
     "output_type": "execute_result"
    }
   ],
   "source": [
    "train = df_all.iloc[:ntrain]\n",
    "test = df_all.iloc[ntrain:]\n",
    "train.shape"
   ]
  },
  {
   "cell_type": "markdown",
   "metadata": {},
   "source": [
    "## Selection of features"
   ]
  },
  {
   "cell_type": "code",
   "execution_count": 39,
   "metadata": {},
   "outputs": [],
   "source": [
    "numerical_columns = train._get_numeric_data().columns"
   ]
  },
  {
   "cell_type": "code",
   "execution_count": 40,
   "metadata": {},
   "outputs": [],
   "source": [
    "included_numerical_columns = list(set(numerical_columns) - set(excluded_numerical_columns))"
   ]
  },
  {
   "cell_type": "code",
   "execution_count": 41,
   "metadata": {},
   "outputs": [],
   "source": [
    "features = [col for col in included_numerical_columns if col != 'SalePrice']\n",
    "X = train[features]\n",
    "y = train['SalePrice']"
   ]
  },
  {
   "cell_type": "markdown",
   "metadata": {},
   "source": [
    "## Train/Test Split"
   ]
  },
  {
   "cell_type": "code",
   "execution_count": 42,
   "metadata": {},
   "outputs": [],
   "source": [
    "X_train, X_test, y_train, y_test = train_test_split(X, y, random_state=42)"
   ]
  },
  {
   "cell_type": "markdown",
   "metadata": {},
   "source": [
    "## Scaling the data"
   ]
  },
  {
   "cell_type": "code",
   "execution_count": 43,
   "metadata": {},
   "outputs": [],
   "source": [
    "ss = StandardScaler()\n",
    "ss.fit(X_train)\n",
    "X_train_sc = ss.transform(X_train)\n",
    "X_test_sc = ss.transform(X_test)"
   ]
  },
  {
   "cell_type": "markdown",
   "metadata": {},
   "source": [
    "## Elastic Net"
   ]
  },
  {
   "cell_type": "code",
   "execution_count": 44,
   "metadata": {},
   "outputs": [],
   "source": [
    "l1_ratios = [.1, .5, .7, .9, .95, .99, 1]\n",
    "elastic = ElasticNetCV(l1_ratio=l1_ratios, n_alphas=1000, max_iter=10000)"
   ]
  },
  {
   "cell_type": "code",
   "execution_count": 45,
   "metadata": {},
   "outputs": [
    {
     "data": {
      "text/plain": [
       "ElasticNetCV(alphas=None, copy_X=True, cv=None, eps=0.001, fit_intercept=True,\n",
       "       l1_ratio=[0.1, 0.5, 0.7, 0.9, 0.95, 0.99, 1], max_iter=10000,\n",
       "       n_alphas=1000, n_jobs=1, normalize=False, positive=False,\n",
       "       precompute='auto', random_state=None, selection='cyclic',\n",
       "       tol=0.0001, verbose=0)"
      ]
     },
     "execution_count": 45,
     "metadata": {},
     "output_type": "execute_result"
    }
   ],
   "source": [
    "elastic.fit(X_train_sc, y_train)"
   ]
  },
  {
   "cell_type": "code",
   "execution_count": 46,
   "metadata": {},
   "outputs": [
    {
     "data": {
      "text/plain": [
       "188.1103474992709"
      ]
     },
     "execution_count": 46,
     "metadata": {},
     "output_type": "execute_result"
    }
   ],
   "source": [
    "elastic_optimal_alpha = elastic.alpha_\n",
    "elastic_optimal_alpha"
   ]
  },
  {
   "cell_type": "code",
   "execution_count": 47,
   "metadata": {},
   "outputs": [
    {
     "data": {
      "text/plain": [
       "0.99"
      ]
     },
     "execution_count": 47,
     "metadata": {},
     "output_type": "execute_result"
    }
   ],
   "source": [
    "elastic_optimal_l1_ratio = elastic.l1_ratio_\n",
    "elastic_optimal_l1_ratio"
   ]
  },
  {
   "cell_type": "code",
   "execution_count": 48,
   "metadata": {},
   "outputs": [],
   "source": [
    "elastic_opt = ElasticNet(alpha=elastic_optimal_alpha, l1_ratio=elastic_optimal_l1_ratio)"
   ]
  },
  {
   "cell_type": "code",
   "execution_count": 49,
   "metadata": {},
   "outputs": [
    {
     "data": {
      "text/plain": [
       "ElasticNet(alpha=188.1103474992709, copy_X=True, fit_intercept=True,\n",
       "      l1_ratio=0.99, max_iter=1000, normalize=False, positive=False,\n",
       "      precompute=False, random_state=None, selection='cyclic', tol=0.0001,\n",
       "      warm_start=False)"
      ]
     },
     "execution_count": 49,
     "metadata": {},
     "output_type": "execute_result"
    }
   ],
   "source": [
    "elastic_opt.fit(X_train_sc, y_train)"
   ]
  },
  {
   "cell_type": "code",
   "execution_count": 50,
   "metadata": {},
   "outputs": [
    {
     "data": {
      "text/plain": [
       "0.8705386288286809"
      ]
     },
     "execution_count": 50,
     "metadata": {},
     "output_type": "execute_result"
    }
   ],
   "source": [
    "elastic_opt.score(X_train_sc, y_train)"
   ]
  },
  {
   "cell_type": "code",
   "execution_count": 51,
   "metadata": {},
   "outputs": [
    {
     "data": {
      "text/plain": [
       "0.8964164861324811"
      ]
     },
     "execution_count": 51,
     "metadata": {},
     "output_type": "execute_result"
    }
   ],
   "source": [
    "elastic_opt.score(X_test_sc, y_test)"
   ]
  },
  {
   "cell_type": "code",
   "execution_count": 52,
   "metadata": {},
   "outputs": [
    {
     "data": {
      "text/plain": [
       "0.8289232835176131"
      ]
     },
     "execution_count": 52,
     "metadata": {},
     "output_type": "execute_result"
    }
   ],
   "source": [
    "cross_val_score(elastic_opt, X_train_sc, y_train, cv=5).mean()"
   ]
  },
  {
   "cell_type": "code",
   "execution_count": 53,
   "metadata": {},
   "outputs": [],
   "source": [
    "coefficients = list(elastic_opt.coef_)\n",
    "sorted_coeffs = sorted(coefficients, key=abs, reverse=True)"
   ]
  },
  {
   "cell_type": "code",
   "execution_count": 54,
   "metadata": {},
   "outputs": [
    {
     "name": "stdout",
     "output_type": "stream",
     "text": [
      "Neighborhood_StoneBr --> 2224.70004\n",
      "OverallQual GrLivArea --> 2203.69682\n",
      "Neighborhood_NridgHt --> 2179.62824\n",
      "MiscVal --> -2149.61414\n",
      "OverallQual^2 --> 2137.13961\n",
      "GrLivArea KitchenQual --> 2048.26386\n",
      "GrLivArea YearBuilt --> 1960.34981\n",
      "GrLivArea --> 1947.71723\n",
      "ExterQual GrLivArea --> 1946.11829\n",
      "OverallQual KitchenQual --> 1900.28498\n",
      "OverallQual ExterQual --> 1871.30478\n",
      "FireplaceQu --> 1822.42368\n",
      "TotRmsAbvGrd --> 1792.70821\n",
      "ScreenPorch --> 1777.97795\n",
      "OverallQual --> 1768.84911\n",
      "OverallQual YearBuilt --> 1749.05008\n",
      "GrLivArea BsmtQual --> 1748.49823\n",
      "BsmtExposure --> 1724.60908\n",
      "GrLivArea GarageCars --> 1723.80894\n",
      "Fireplaces --> 1708.62818\n",
      "MasVnrArea --> 1629.52026\n",
      "BsmtFullBath --> 1620.22912\n",
      "OverallQual BsmtQual --> 1610.95770\n",
      "Neighborhood_NoRidge --> 1592.67816\n",
      "OverallQual GarageCars --> 1551.52833\n",
      "TotalBsmtSF^2 --> -1532.72038\n",
      "OverallQual 1stFlrSF --> 1486.64869\n",
      "LandContour_HLS --> 1461.10579\n",
      "PoolQC --> -1437.18292\n",
      "ExterQual KitchenQual --> 1384.93579\n",
      "BsmtFinType1 --> 1375.33140\n",
      "Neighborhood_GrnHill --> 1369.19132\n",
      "BsmtFinSF1 --> 1360.08726\n",
      "LotArea --> 1350.35586\n",
      "OverallQual GarageArea --> 1327.22755\n",
      "KitchenQual 1stFlrSF --> 1323.51563\n",
      "ExterQual^2 --> 1320.61499\n",
      "KitchenQual^2 --> 1309.55837\n",
      "OverallCond --> 1242.47271\n",
      "ExterQual 1stFlrSF --> 1240.71894\n",
      "FullBath --> 1240.52835\n",
      "RoofStyle_Hip --> 1209.34289\n",
      "BldgType_TwnhsE --> -1186.77976\n",
      "Neighborhood_Crawfor --> 1185.84566\n",
      "2ndFlrSF --> 1183.55085\n",
      "GarageCars 1stFlrSF --> 1179.44420\n",
      "KitchenQual GarageCars --> 1159.64451\n",
      "1stFlrSF YearBuilt --> 1128.68092\n",
      "TotalBsmtSF 1stFlrSF --> -1122.91407\n",
      "KitchenQual BsmtQual --> 1121.59553\n",
      "OverallQual TotalBsmtSF --> 1119.46621\n",
      "1stFlrSF --> 1118.15109\n",
      "ExterQual --> 1107.18515\n",
      "ExterQual YearBuilt --> 1105.27194\n",
      "GarageCars TotalBsmtSF --> 1098.73627\n",
      "ExterQual BsmtQual --> 1089.26908\n",
      "1stFlrSF BsmtQual --> 1081.41308\n",
      "ExterQual GarageCars --> 1072.71902\n",
      "RoofMatl_WdShngl --> 1069.38987\n",
      "BsmtQual^2 --> 1066.64159\n",
      "LotConfig_CulDSac --> 1055.77383\n",
      "KitchenQual YearBuilt --> 1032.05068\n",
      "RoofStyle_Gable --> -1028.48874\n",
      "Neighborhood_Edwards --> -1017.62981\n",
      "KitchenQual --> 1013.27823\n",
      "TotalBsmtSF BsmtQual --> 1003.34883\n",
      "KitchenQual GarageArea --> 990.27729\n",
      "GarageCars BsmtQual --> 953.24993\n",
      "YearRemod/Add --> 939.87803\n",
      "HeatingQC --> 935.15005\n",
      "KitchenQual TotalBsmtSF --> 930.32873\n",
      "ExterQual GarageArea --> 908.26650\n",
      "RoofStyle_Mansard --> -907.45939\n",
      "Exterior1st_BrkFace --> 906.01712\n",
      "GarageArea GarageCars --> 899.30340\n",
      "HalfBath --> 886.17119\n",
      "Condition1_PosN --> 862.98841\n",
      "GarageCars^2 --> 860.70932\n",
      "Functional --> 855.96672\n",
      "HouseStyle_2.5Fin --> 854.33864\n",
      "ExterQual TotalBsmtSF --> 848.58376\n",
      "GarageArea BsmtQual --> 836.48955\n",
      "LandSlope --> -787.13543\n",
      "GrLivArea^2 --> 782.05424\n",
      "WoodDeckSF --> 771.13980\n",
      "MSSubClass_SC60 --> 752.57749\n",
      "BedroomAbvGr --> 750.97369\n",
      "BsmtUnfSF --> -742.38936\n",
      "MSSubClass_SC160 --> -738.27081\n",
      "TotalBsmtSF YearBuilt --> 716.98893\n",
      "TotalBsmtSF --> 703.90188\n",
      "GarageType_BuiltIn --> 698.65354\n",
      "GarageType_Detchd --> -690.33026\n",
      "Neighborhood_CollgCr --> -688.20614\n",
      "BldgType_Twnhs --> -685.45297\n",
      "GrLivArea GarageArea --> 674.38620\n",
      "MasVnrType_Stone --> 654.15707\n",
      "Exterior1st_Stucco --> -643.64210\n",
      "MSZoning_RM --> -643.30915\n",
      "PoolArea --> -633.04895\n",
      "Neighborhood_SawyerW --> -615.52501\n",
      "GarageFinish --> 614.69371\n",
      "Exterior2nd_Stucco --> -604.79096\n",
      "Condition2_PosA --> 593.82364\n",
      "GrLivArea TotalBsmtSF --> -584.89599\n",
      "1stFlrSF^2 --> -579.74328\n",
      "RoofMatl_CompShg --> 568.15584\n",
      "Exterior1st_CemntBd --> 553.71329\n",
      "KitchenAbvGr --> -539.93580\n",
      "Neighborhood_OldTown --> -525.38877\n",
      "MSZoning_RL --> 525.33380\n",
      "LotFrontage --> 522.53702\n",
      "YearBuilt^2 --> 518.18688\n",
      "YearBuilt --> 517.30994\n",
      "MSSubClass_SC20 --> 504.73413\n",
      "Foundation_PConc --> 501.96463\n",
      "MiscFeature_Othr --> 496.26139\n",
      "LotConfig_FR2 --> -491.42109\n",
      "PavedDrive --> 485.44249\n",
      "Condition1_Norm --> 472.51228\n",
      "BsmtQual YearBuilt --> 461.82735\n",
      "Neighborhood_Gilbert --> -460.72538\n",
      "CentralAir --> 455.32375\n",
      "GarageArea^2 --> 441.18876\n",
      "BsmtQual --> 427.56886\n",
      "Condition1_PosA --> 426.10607\n",
      "Neighborhood_MeadowV --> -425.25990\n",
      "GarageType_CarPort --> -408.72816\n",
      "Condition1_RRAe --> -400.92423\n",
      "OpenPorchSF --> 400.52615\n",
      "Alley --> -400.14440\n",
      "Exterior2nd_CmentBd --> 399.45670\n",
      "MSSubClass_SC150 --> -397.34434\n",
      "GarageType_Attchd --> 370.96445\n",
      "GarageType_NA --> 366.73187\n",
      "Exterior1st_HdBoard --> -365.00986\n",
      "Condition1_Feedr --> -357.46003\n",
      "Neighborhood_ClearCr --> 351.56635\n",
      "LotShape --> -346.10552\n",
      "GarageYrBlt --> -345.99933\n",
      "Condition2_PosN --> 343.66260\n",
      "Foundation_CBlock --> -326.29493\n",
      "ExterCond --> 320.10037\n",
      "Neighborhood_NAmes --> -319.85066\n",
      "MSZoning_C (all) --> -314.12477\n",
      "HouseStyle_SFoyer --> -313.28538\n",
      "GarageCars YearBuilt --> 311.87964\n",
      "Street --> 310.47158\n",
      "Neighborhood_Blueste --> -306.13521\n",
      "Condition1_RRNn --> -303.32658\n",
      "Heating_Grav --> -303.18718\n",
      "LandContour_Low --> 300.75820\n",
      "Neighborhood_IDOTRR --> -295.65491\n",
      "3SsnPorch --> 294.35247\n",
      "Exterior1st_Wd Sdng --> -291.81820\n",
      "Exterior2nd_HdBoard --> -284.03692\n",
      "Exterior2nd_BrkFace --> 283.38750\n",
      "GarageArea YearBuilt --> 282.33354\n",
      "Heating_OthW --> -282.28257\n",
      "Foundation_Slab --> 274.53862\n",
      "MasVnrType_None --> -266.71445\n",
      "GarageCars --> 266.63832\n",
      "MiscFeature_Gar2 --> 262.59765\n",
      "HouseStyle_2Story --> 262.52419\n",
      "RoofMatl_Membran --> 251.02690\n",
      "Heating_GasA --> 245.98822\n",
      "Exterior1st_BrkComm --> -245.56690\n",
      "Exterior2nd_VinylSd --> 239.24979\n",
      "GarageArea --> 238.92167\n",
      "GarageType_Basment --> -234.93057\n",
      "Neighborhood_Greens --> -231.74272\n",
      "Neighborhood_Veenker --> 224.98777\n",
      "Exterior1st_VinylSd --> 223.38222\n",
      "BsmtFinSF2 --> 222.49763\n",
      "MasVnrType_NA --> 216.35932\n",
      "MSSubClass_SC30 --> -214.19188\n",
      "MSSubClass_SC190 --> -211.63925\n",
      "MSSubClass_SC90 --> -209.78325\n",
      "BldgType_Duplex --> -209.67074\n",
      "MSSubClass_SC75 --> 207.61580\n",
      "LandContour_Lvl --> -191.66791\n",
      "Exterior2nd_Brk Cmn --> -187.22553\n",
      "Neighborhood_NPkVill --> -186.96391\n",
      "BsmtHalfBath --> -178.76877\n",
      "Neighborhood_NWAmes --> -177.48745\n",
      "HouseStyle_1Story --> -156.04627\n",
      "Neighborhood_Sawyer --> -153.72309\n",
      "Neighborhood_BrkSide --> 150.53582\n",
      "BsmtCond --> -143.32711\n",
      "MSZoning_FV --> 141.26339\n",
      "BldgType_2fmCon --> -140.60891\n",
      "GarageArea TotalBsmtSF --> -139.37055\n",
      "MSSubClass_SC85 --> -138.32011\n",
      "Electrical --> 137.23641\n",
      "MSSubClass_SC180 --> -131.76937\n",
      "Neighborhood_BrDale --> -127.83906\n",
      "RoofMatl_Tar&Grv --> -117.12352\n",
      "Exterior2nd_AsphShn --> 113.24707\n",
      "MSSubClass_SC80 --> -112.23716\n",
      "MSSubClass_SC70 --> 111.06151\n",
      "BsmtFinType2 --> 110.54590\n",
      "EnclosedPorch --> 106.81880\n",
      "GarageCond --> -104.24807\n",
      "Condition1_RRAn --> -94.62700\n",
      "Foundation_Stone --> 92.62928\n",
      "MiscFeature_NA --> 87.32052\n",
      "Condition1_RRNe --> -86.59800\n",
      "Neighborhood_Timber --> 85.58589\n",
      "HouseStyle_SLvl --> -85.00759\n",
      "Exterior2nd_MetalSd --> 80.10279\n",
      "Condition2_Feedr --> -70.93469\n",
      "LotConfig_Inside --> -70.36049\n",
      "Exterior1st_MetalSd --> 67.89375\n",
      "MiscFeature_Shed --> 67.54995\n",
      "Fence --> 58.68698\n",
      "Heating_Wall --> -58.38060\n",
      "Condition2_Norm --> -55.28660\n",
      "MSSubClass_SC50 --> 46.30537\n",
      "HouseStyle_2.5Unf --> 45.16823\n",
      "Condition2_RRAn --> -36.06794\n",
      "Exterior2nd_Plywood --> -33.94823\n",
      "Exterior1st_Plywood --> -33.36475\n",
      "GarageArea 1stFlrSF --> 33.24518\n",
      "Neighborhood_Mitchel --> -24.76838\n",
      "Neighborhood_Somerst --> 24.61744\n",
      "MiscFeature_TenC --> 17.65130\n",
      "MSSubClass_SC40 --> -17.56449\n"
     ]
    }
   ],
   "source": [
    "for i in list(np.nonzero(sorted_coeffs)[0]):\n",
    "    ind = np.where(coefficients == sorted_coeffs[i])[0][0]\n",
    "    print('{} --> {:.5f}'.format(features[ind], coefficients[ind]))"
   ]
  },
  {
   "cell_type": "markdown",
   "metadata": {},
   "source": [
    "## Analyzing the Residuals"
   ]
  },
  {
   "cell_type": "code",
   "execution_count": 55,
   "metadata": {},
   "outputs": [
    {
     "data": {
      "text/plain": [
       "0.896416486132481"
      ]
     },
     "execution_count": 55,
     "metadata": {},
     "output_type": "execute_result"
    }
   ],
   "source": [
    "preds = elastic_opt.predict(X_test_sc)\n",
    "r2_score(y_test, preds)"
   ]
  },
  {
   "cell_type": "code",
   "execution_count": 56,
   "metadata": {},
   "outputs": [
    {
     "data": {
      "image/png": "[encoded data removed]",
      "text/plain": [
       "<Figure size 432x288 with 1 Axes>"
      ]
     },
     "metadata": {
      "needs_background": "light"
     },
     "output_type": "display_data"
    }
   ],
   "source": [
    "residuals = y_test - preds  \n",
    "residuals.hist(bins=40);"
   ]
  },
  {
   "cell_type": "code",
   "execution_count": 57,
   "metadata": {},
   "outputs": [
    {
     "data": {
      "image/png": "[encoded data removed]",
      "text/plain": [
       "<Figure size 432x288 with 1 Axes>"
      ]
     },
     "metadata": {
      "needs_background": "light"
     },
     "output_type": "display_data"
    }
   ],
   "source": [
    "y_test.hist(bins=40);"
   ]
  },
  {
   "cell_type": "code",
   "execution_count": 99,
   "metadata": {},
   "outputs": [
    {
     "data": {
      "image/png": "[encoded data removed]",
      "text/plain": [
       "<Figure size 432x288 with 1 Axes>"
      ]
     },
     "metadata": {
      "needs_background": "light"
     },
     "output_type": "display_data"
    }
   ],
   "source": [
    "y.hist(bins=20)\n",
    "plt.xticks(fontsize=12)\n",
    "plt.yticks(fontsize=12);"
   ]
  },
  {
   "cell_type": "code",
   "execution_count": 117,
   "metadata": {},
   "outputs": [
    {
     "name": "stderr",
     "output_type": "stream",
     "text": [
      "/Users/alireza/anaconda3/envs/DSI-6/lib/python3.6/site-packages/scipy/stats/stats.py:1713: FutureWarning: Using a non-tuple sequence for multidimensional indexing is deprecated; use `arr[tuple(seq)]` instead of `arr[seq]`. In the future this will be interpreted as an array index, `arr[np.array(seq)]`, which will result either in an error or a different result.\n",
      "  return np.add.reduce(sorted[indexer] * weights, axis=axis) / sumval\n"
     ]
    },
    {
     "data": {
      "image/png": "[encoded data removed]",
      "text/plain": [
       "<Figure size 432x288 with 1 Axes>"
      ]
     },
     "metadata": {
      "needs_background": "light"
     },
     "output_type": "display_data"
    }
   ],
   "source": [
    "ax = sns.distplot(y, bins=30)\n",
    "ax.set(yticks=[])\n",
    "ax.set(yticklabels=[])\n",
    "ax.set_xlabel('')\n",
    "ax.tick_params(labelsize=10);"
   ]
  },
  {
   "cell_type": "code",
   "execution_count": 118,
   "metadata": {},
   "outputs": [
    {
     "name": "stderr",
     "output_type": "stream",
     "text": [
      "/Users/alireza/anaconda3/envs/DSI-6/lib/python3.6/site-packages/scipy/stats/stats.py:1713: FutureWarning: Using a non-tuple sequence for multidimensional indexing is deprecated; use `arr[tuple(seq)]` instead of `arr[seq]`. In the future this will be interpreted as an array index, `arr[np.array(seq)]`, which will result either in an error or a different result.\n",
      "  return np.add.reduce(sorted[indexer] * weights, axis=axis) / sumval\n"
     ]
    },
    {
     "data": {
      "image/png": "[encoded data removed]",
      "text/plain": [
       "<Figure size 432x288 with 1 Axes>"
      ]
     },
     "metadata": {
      "needs_background": "light"
     },
     "output_type": "display_data"
    }
   ],
   "source": [
    "ax = sns.distplot(np.log(y), bins=30)\n",
    "ax.set(yticks=[])\n",
    "ax.set(yticklabels=[])\n",
    "ax.set_xlabel('')\n",
    "ax.tick_params(labelsize=10);"
   ]
  },
  {
   "cell_type": "code",
   "execution_count": 100,
   "metadata": {},
   "outputs": [
    {
     "data": {
      "image/png": "[encoded data removed]",
      "text/plain": [
       "<Figure size 432x288 with 1 Axes>"
      ]
     },
     "metadata": {
      "needs_background": "light"
     },
     "output_type": "display_data"
    }
   ],
   "source": [
    "np.log(y).hist(bins=20)\n",
    "plt.xticks(fontsize=12)\n",
    "plt.yticks(fontsize=12);"
   ]
  },
  {
   "cell_type": "markdown",
   "metadata": {},
   "source": [
    "## Trying Log Transformation"
   ]
  },
  {
   "cell_type": "code",
   "execution_count": 60,
   "metadata": {},
   "outputs": [],
   "source": [
    "y_log = np.log(y)"
   ]
  },
  {
   "cell_type": "code",
   "execution_count": 61,
   "metadata": {},
   "outputs": [],
   "source": [
    "X_train, X_test, y_train, y_test = train_test_split(X, y_log, random_state=42)"
   ]
  },
  {
   "cell_type": "code",
   "execution_count": 62,
   "metadata": {},
   "outputs": [],
   "source": [
    "ss = StandardScaler()\n",
    "ss.fit(X_train)\n",
    "X_train_sc = ss.transform(X_train)\n",
    "X_test_sc = ss.transform(X_test)"
   ]
  },
  {
   "cell_type": "code",
   "execution_count": 63,
   "metadata": {},
   "outputs": [],
   "source": [
    "l1_ratios = [.1, .5, .7, .9, .95, .99, 1]\n",
    "elastic = ElasticNetCV(l1_ratio=l1_ratios, n_alphas=1000, max_iter=10000)"
   ]
  },
  {
   "cell_type": "code",
   "execution_count": 64,
   "metadata": {},
   "outputs": [
    {
     "data": {
      "text/plain": [
       "ElasticNetCV(alphas=None, copy_X=True, cv=None, eps=0.001, fit_intercept=True,\n",
       "       l1_ratio=[0.1, 0.5, 0.7, 0.9, 0.95, 0.99, 1], max_iter=10000,\n",
       "       n_alphas=1000, n_jobs=1, normalize=False, positive=False,\n",
       "       precompute='auto', random_state=None, selection='cyclic',\n",
       "       tol=0.0001, verbose=0)"
      ]
     },
     "execution_count": 64,
     "metadata": {},
     "output_type": "execute_result"
    }
   ],
   "source": [
    "elastic.fit(X_train_sc, y_train)"
   ]
  },
  {
   "cell_type": "code",
   "execution_count": 65,
   "metadata": {},
   "outputs": [
    {
     "data": {
      "text/plain": [
       "0.000355285019883245"
      ]
     },
     "execution_count": 65,
     "metadata": {},
     "output_type": "execute_result"
    }
   ],
   "source": [
    "elastic_optimal_alpha = elastic.alpha_\n",
    "elastic_optimal_alpha"
   ]
  },
  {
   "cell_type": "code",
   "execution_count": 66,
   "metadata": {},
   "outputs": [
    {
     "data": {
      "text/plain": [
       "0.95"
      ]
     },
     "execution_count": 66,
     "metadata": {},
     "output_type": "execute_result"
    }
   ],
   "source": [
    "elastic_optimal_l1_ratio = elastic.l1_ratio_\n",
    "elastic_optimal_l1_ratio"
   ]
  },
  {
   "cell_type": "code",
   "execution_count": 67,
   "metadata": {},
   "outputs": [],
   "source": [
    "elastic_opt = ElasticNet(alpha=elastic_optimal_alpha, l1_ratio=elastic_optimal_l1_ratio, max_iter=10000)"
   ]
  },
  {
   "cell_type": "code",
   "execution_count": 68,
   "metadata": {},
   "outputs": [
    {
     "data": {
      "text/plain": [
       "ElasticNet(alpha=0.000355285019883245, copy_X=True, fit_intercept=True,\n",
       "      l1_ratio=0.95, max_iter=10000, normalize=False, positive=False,\n",
       "      precompute=False, random_state=None, selection='cyclic', tol=0.0001,\n",
       "      warm_start=False)"
      ]
     },
     "execution_count": 68,
     "metadata": {},
     "output_type": "execute_result"
    }
   ],
   "source": [
    "elastic_opt.fit(X_train_sc, y_train)"
   ]
  },
  {
   "cell_type": "code",
   "execution_count": 69,
   "metadata": {},
   "outputs": [
    {
     "data": {
      "text/plain": [
       "0.9474513961736132"
      ]
     },
     "execution_count": 69,
     "metadata": {},
     "output_type": "execute_result"
    }
   ],
   "source": [
    "elastic_opt.score(X_train_sc, y_train)"
   ]
  },
  {
   "cell_type": "code",
   "execution_count": 70,
   "metadata": {},
   "outputs": [
    {
     "data": {
      "text/plain": [
       "0.8827319399728353"
      ]
     },
     "execution_count": 70,
     "metadata": {},
     "output_type": "execute_result"
    }
   ],
   "source": [
    "elastic_opt.score(X_test_sc, y_test)"
   ]
  },
  {
   "cell_type": "code",
   "execution_count": 71,
   "metadata": {},
   "outputs": [
    {
     "data": {
      "text/plain": [
       "0.908654562567356"
      ]
     },
     "execution_count": 71,
     "metadata": {},
     "output_type": "execute_result"
    }
   ],
   "source": [
    "cross_val_score(elastic_opt, X_train_sc, y_train, cv=5).mean()"
   ]
  },
  {
   "cell_type": "code",
   "execution_count": 72,
   "metadata": {},
   "outputs": [
    {
     "data": {
      "text/plain": [
       "0.8827319399728353"
      ]
     },
     "execution_count": 72,
     "metadata": {},
     "output_type": "execute_result"
    }
   ],
   "source": [
    "preds = elastic_opt.predict(X_test_sc)\n",
    "r2_score(y_test, preds)"
   ]
  },
  {
   "cell_type": "code",
   "execution_count": 73,
   "metadata": {},
   "outputs": [
    {
     "data": {
      "image/png": "[encoded data removed]",
      "text/plain": [
       "<Figure size 432x288 with 1 Axes>"
      ]
     },
     "metadata": {
      "needs_background": "light"
     },
     "output_type": "display_data"
    }
   ],
   "source": [
    "residuals = y_test - preds  \n",
    "residuals.hist(bins=40);"
   ]
  },
  {
   "cell_type": "markdown",
   "metadata": {},
   "source": [
    "## Trying Quantile Transformation"
   ]
  },
  {
   "cell_type": "code",
   "execution_count": 74,
   "metadata": {},
   "outputs": [],
   "source": [
    "y_log = np.log(y)"
   ]
  },
  {
   "cell_type": "code",
   "execution_count": 75,
   "metadata": {},
   "outputs": [],
   "source": [
    "X_train, X_test, y_train, y_test = train_test_split(X, y_log, random_state=42)"
   ]
  },
  {
   "cell_type": "code",
   "execution_count": 76,
   "metadata": {},
   "outputs": [],
   "source": [
    "qt = QuantileTransformer(output_distribution='normal', random_state=42)"
   ]
  },
  {
   "cell_type": "code",
   "execution_count": 77,
   "metadata": {},
   "outputs": [],
   "source": [
    "X_train_trans = qt.fit_transform(X_train)"
   ]
  },
  {
   "cell_type": "code",
   "execution_count": 78,
   "metadata": {},
   "outputs": [],
   "source": [
    "X_test_trans = qt.transform(X_test)"
   ]
  },
  {
   "cell_type": "code",
   "execution_count": 79,
   "metadata": {},
   "outputs": [],
   "source": [
    "ss = StandardScaler()\n",
    "ss.fit(X_train)\n",
    "X_train_sc = ss.transform(X_train_trans)\n",
    "X_test_sc = ss.transform(X_test_trans)"
   ]
  },
  {
   "cell_type": "code",
   "execution_count": 80,
   "metadata": {},
   "outputs": [],
   "source": [
    "l1_ratios = [.1, .5, .7, .9, .95, .99, 1]\n",
    "elastic = ElasticNetCV(l1_ratio=l1_ratios, n_alphas=1000, max_iter=10000)"
   ]
  },
  {
   "cell_type": "code",
   "execution_count": 81,
   "metadata": {},
   "outputs": [
    {
     "data": {
      "text/plain": [
       "ElasticNetCV(alphas=None, copy_X=True, cv=None, eps=0.001, fit_intercept=True,\n",
       "       l1_ratio=[0.1, 0.5, 0.7, 0.9, 0.95, 0.99, 1], max_iter=10000,\n",
       "       n_alphas=1000, n_jobs=1, normalize=False, positive=False,\n",
       "       precompute='auto', random_state=None, selection='cyclic',\n",
       "       tol=0.0001, verbose=0)"
      ]
     },
     "execution_count": 81,
     "metadata": {},
     "output_type": "execute_result"
    }
   ],
   "source": [
    "elastic.fit(X_train_sc, y_train)"
   ]
  },
  {
   "cell_type": "code",
   "execution_count": 82,
   "metadata": {},
   "outputs": [
    {
     "data": {
      "text/plain": [
       "0.009015014721841758"
      ]
     },
     "execution_count": 82,
     "metadata": {},
     "output_type": "execute_result"
    }
   ],
   "source": [
    "elastic_optimal_alpha = elastic.alpha_\n",
    "elastic_optimal_alpha"
   ]
  },
  {
   "cell_type": "code",
   "execution_count": 83,
   "metadata": {},
   "outputs": [
    {
     "data": {
      "text/plain": [
       "1.0"
      ]
     },
     "execution_count": 83,
     "metadata": {},
     "output_type": "execute_result"
    }
   ],
   "source": [
    "elastic_optimal_l1_ratio = elastic.l1_ratio_\n",
    "elastic_optimal_l1_ratio"
   ]
  },
  {
   "cell_type": "code",
   "execution_count": 84,
   "metadata": {},
   "outputs": [],
   "source": [
    "elastic_opt_quant = ElasticNet(alpha=elastic_optimal_alpha, l1_ratio=elastic_optimal_l1_ratio, max_iter=10000)"
   ]
  },
  {
   "cell_type": "code",
   "execution_count": 85,
   "metadata": {},
   "outputs": [
    {
     "data": {
      "text/plain": [
       "ElasticNet(alpha=0.009015014721841758, copy_X=True, fit_intercept=True,\n",
       "      l1_ratio=1.0, max_iter=10000, normalize=False, positive=False,\n",
       "      precompute=False, random_state=None, selection='cyclic', tol=0.0001,\n",
       "      warm_start=False)"
      ]
     },
     "execution_count": 85,
     "metadata": {},
     "output_type": "execute_result"
    }
   ],
   "source": [
    "elastic_opt_quant.fit(X_train_sc, y_train)"
   ]
  },
  {
   "cell_type": "code",
   "execution_count": 86,
   "metadata": {},
   "outputs": [
    {
     "data": {
      "text/plain": [
       "0.8997971676585937"
      ]
     },
     "execution_count": 86,
     "metadata": {},
     "output_type": "execute_result"
    }
   ],
   "source": [
    "elastic_opt_quant.score(X_train_sc, y_train)"
   ]
  },
  {
   "cell_type": "code",
   "execution_count": 87,
   "metadata": {},
   "outputs": [
    {
     "data": {
      "text/plain": [
       "0.8179716294776671"
      ]
     },
     "execution_count": 87,
     "metadata": {},
     "output_type": "execute_result"
    }
   ],
   "source": [
    "elastic_opt_quant.score(X_test_sc, y_test)"
   ]
  },
  {
   "cell_type": "code",
   "execution_count": 88,
   "metadata": {},
   "outputs": [
    {
     "data": {
      "text/plain": [
       "0.8462460681028781"
      ]
     },
     "execution_count": 88,
     "metadata": {},
     "output_type": "execute_result"
    }
   ],
   "source": [
    "cross_val_score(elastic_opt_quant, X_train_sc, y_train, cv=5).mean()"
   ]
  },
  {
   "cell_type": "code",
   "execution_count": 89,
   "metadata": {},
   "outputs": [
    {
     "data": {
      "text/plain": [
       "0.8179716294776671"
      ]
     },
     "execution_count": 89,
     "metadata": {},
     "output_type": "execute_result"
    }
   ],
   "source": [
    "preds = elastic_opt_quant.predict(X_test_sc)\n",
    "r2_score(y_test, preds)"
   ]
  },
  {
   "cell_type": "code",
   "execution_count": 90,
   "metadata": {},
   "outputs": [
    {
     "data": {
      "image/png": "[encoded data removed]",
      "text/plain": [
       "<Figure size 432x288 with 1 Axes>"
      ]
     },
     "metadata": {
      "needs_background": "light"
     },
     "output_type": "display_data"
    }
   ],
   "source": [
    "residuals = y_test - preds  \n",
    "residuals.hist(bins=40);"
   ]
  },
  {
   "cell_type": "markdown",
   "metadata": {},
   "source": [
    "## Predicting the Price for the Test Set"
   ]
  },
  {
   "cell_type": "code",
   "execution_count": 91,
   "metadata": {},
   "outputs": [],
   "source": [
    "XX = test[features]"
   ]
  },
  {
   "cell_type": "code",
   "execution_count": 92,
   "metadata": {},
   "outputs": [],
   "source": [
    "XX_sc = ss.transform(XX)"
   ]
  },
  {
   "cell_type": "code",
   "execution_count": 93,
   "metadata": {},
   "outputs": [],
   "source": [
    "preds = elastic_opt.predict(XX_sc)"
   ]
  },
  {
   "cell_type": "code",
   "execution_count": 94,
   "metadata": {},
   "outputs": [
    {
     "data": {
      "text/html": [
       "<div>\n",
       "<style scoped>\n",
       "    .dataframe tbody tr th:only-of-type {\n",
       "        vertical-align: middle;\n",
       "    }\n",
       "\n",
       "    .dataframe tbody tr th {\n",
       "        vertical-align: top;\n",
       "    }\n",
       "\n",
       "    .dataframe thead th {\n",
       "        text-align: right;\n",
       "    }\n",
       "</style>\n",
       "<table border=\"1\" class=\"dataframe\">\n",
       "  <thead>\n",
       "    <tr style=\"text-align: right;\">\n",
       "      <th></th>\n",
       "      <th>Id</th>\n",
       "      <th>SalePrice</th>\n",
       "    </tr>\n",
       "  </thead>\n",
       "  <tbody>\n",
       "    <tr>\n",
       "      <th>0</th>\n",
       "      <td>2658</td>\n",
       "      <td>123304.161199</td>\n",
       "    </tr>\n",
       "    <tr>\n",
       "      <th>1</th>\n",
       "      <td>2718</td>\n",
       "      <td>148323.457350</td>\n",
       "    </tr>\n",
       "    <tr>\n",
       "      <th>2</th>\n",
       "      <td>2414</td>\n",
       "      <td>206577.354737</td>\n",
       "    </tr>\n",
       "    <tr>\n",
       "      <th>3</th>\n",
       "      <td>1989</td>\n",
       "      <td>102876.723681</td>\n",
       "    </tr>\n",
       "    <tr>\n",
       "      <th>4</th>\n",
       "      <td>625</td>\n",
       "      <td>171238.448179</td>\n",
       "    </tr>\n",
       "  </tbody>\n",
       "</table>\n",
       "</div>"
      ],
      "text/plain": [
       "     Id      SalePrice\n",
       "0  2658  123304.161199\n",
       "1  2718  148323.457350\n",
       "2  2414  206577.354737\n",
       "3  1989  102876.723681\n",
       "4   625  171238.448179"
      ]
     },
     "execution_count": 94,
     "metadata": {},
     "output_type": "execute_result"
    }
   ],
   "source": [
    "# df_output = pd.DataFrame({'Id': test['Id'].values, 'SalePrice': preds})\n",
    "df_output = pd.DataFrame({'Id': test['Id'].values, 'SalePrice': np.exp(preds)})\n",
    "df_output.head()"
   ]
  },
  {
   "cell_type": "code",
   "execution_count": 95,
   "metadata": {},
   "outputs": [],
   "source": [
    "#df_output.to_csv('./datasets/submission.csv', index=False)"
   ]
  },
  {
   "cell_type": "code",
   "execution_count": null,
   "metadata": {},
   "outputs": [],
   "source": []
  }
 ],
 "metadata": {
  "kernelspec": {
   "display_name": "Python 3",
   "language": "python",
   "name": "python3"
  },
  "language_info": {
   "codemirror_mode": {
    "name": "ipython",
    "version": 3
   },
   "file_extension": ".py",
   "mimetype": "text/x-python",
   "name": "python",
   "nbconvert_exporter": "python",
   "pygments_lexer": "ipython3",
   "version": "3.6.6"
  }
 },
 "nbformat": 4,
 "nbformat_minor": 2
}
